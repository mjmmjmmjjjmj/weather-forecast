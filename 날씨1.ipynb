{
  "cells": [
    {
      "cell_type": "code",
      "execution_count": 1,
      "metadata": {
        "id": "C_5OPeJcaw9X"
      },
      "outputs": [],
      "source": [
        "import pandas as pd\n",
        "train_data = pd.read_csv('./rainfall_train.csv')"
      ]
    },
    {
      "cell_type": "code",
      "execution_count": 2,
      "metadata": {
        "id": "8eD-qQ-aePpp"
      },
      "outputs": [],
      "source": [
        "from sklearn.model_selection import train_test_split"
      ]
    },
    {
      "cell_type": "code",
      "execution_count": 3,
      "metadata": {},
      "outputs": [],
      "source": [
        "# %pip install statsmodels"
      ]
    },
    {
      "cell_type": "code",
      "execution_count": 4,
      "metadata": {
        "colab": {
          "base_uri": "https://localhost:8080/"
        },
        "id": "-SiF6m9QeR4R",
        "outputId": "f20d9cdd-81fb-4274-f515-7c3a42fb5ac0"
      },
      "outputs": [
        {
          "name": "stdout",
          "output_type": "stream",
          "text": [
            "Index(['Unnamed: 0', 'rainfall_train.fc_year', 'rainfall_train.fc_month',\n",
            "       'rainfall_train.fc_day', 'rainfall_train.fc_hour',\n",
            "       'rainfall_train.stn4contest', 'rainfall_train.dh',\n",
            "       'rainfall_train.ef_year', 'rainfall_train.ef_month',\n",
            "       'rainfall_train.ef_day', 'rainfall_train.ef_hour', 'rainfall_train.v01',\n",
            "       'rainfall_train.v02', 'rainfall_train.v03', 'rainfall_train.v04',\n",
            "       'rainfall_train.v05', 'rainfall_train.v06', 'rainfall_train.v07',\n",
            "       'rainfall_train.v08', 'rainfall_train.v09', 'rainfall_train.vv',\n",
            "       'rainfall_train.class_interval'],\n",
            "      dtype='object')\n"
          ]
        }
      ],
      "source": [
        "print(train_data.columns)"
      ]
    },
    {
      "cell_type": "code",
      "execution_count": 5,
      "metadata": {
        "colab": {
          "base_uri": "https://localhost:8080/"
        },
        "id": "-fKFFQWYgREE",
        "outputId": "5e7a6b6b-e39c-41f1-ac07-e7971e2e1da3"
      },
      "outputs": [
        {
          "name": "stdout",
          "output_type": "stream",
          "text": [
            "Unnamed: 0                         int64\n",
            "rainfall_train.fc_year            object\n",
            "rainfall_train.fc_month            int64\n",
            "rainfall_train.fc_day              int64\n",
            "rainfall_train.fc_hour             int64\n",
            "rainfall_train.stn4contest        object\n",
            "rainfall_train.dh                  int64\n",
            "rainfall_train.ef_year            object\n",
            "rainfall_train.ef_month            int64\n",
            "rainfall_train.ef_day              int64\n",
            "rainfall_train.ef_hour             int64\n",
            "rainfall_train.v01                 int64\n",
            "rainfall_train.v02                 int64\n",
            "rainfall_train.v03                 int64\n",
            "rainfall_train.v04                 int64\n",
            "rainfall_train.v05                 int64\n",
            "rainfall_train.v06                 int64\n",
            "rainfall_train.v07                 int64\n",
            "rainfall_train.v08                 int64\n",
            "rainfall_train.v09                 int64\n",
            "rainfall_train.vv                float64\n",
            "rainfall_train.class_interval      int64\n",
            "dtype: object\n"
          ]
        }
      ],
      "source": [
        "print(train_data.dtypes)"
      ]
    },
    {
      "cell_type": "code",
      "execution_count": 6,
      "metadata": {
        "colab": {
          "base_uri": "https://localhost:8080/",
          "height": 273
        },
        "id": "qYFtf-bnTKjH",
        "outputId": "2f3c7af3-1b9f-4247-9504-789f93409e55"
      },
      "outputs": [
        {
          "data": {
            "text/html": [
              "<div>\n",
              "<style scoped>\n",
              "    .dataframe tbody tr th:only-of-type {\n",
              "        vertical-align: middle;\n",
              "    }\n",
              "\n",
              "    .dataframe tbody tr th {\n",
              "        vertical-align: top;\n",
              "    }\n",
              "\n",
              "    .dataframe thead th {\n",
              "        text-align: right;\n",
              "    }\n",
              "</style>\n",
              "<table border=\"1\" class=\"dataframe\">\n",
              "  <thead>\n",
              "    <tr style=\"text-align: right;\">\n",
              "      <th></th>\n",
              "      <th>Unnamed: 0</th>\n",
              "      <th>rainfall_train.fc_year</th>\n",
              "      <th>rainfall_train.fc_month</th>\n",
              "      <th>rainfall_train.fc_day</th>\n",
              "      <th>rainfall_train.fc_hour</th>\n",
              "      <th>rainfall_train.stn4contest</th>\n",
              "      <th>rainfall_train.dh</th>\n",
              "      <th>rainfall_train.ef_year</th>\n",
              "      <th>rainfall_train.ef_month</th>\n",
              "      <th>rainfall_train.ef_day</th>\n",
              "      <th>...</th>\n",
              "      <th>rainfall_train.v02</th>\n",
              "      <th>rainfall_train.v03</th>\n",
              "      <th>rainfall_train.v04</th>\n",
              "      <th>rainfall_train.v05</th>\n",
              "      <th>rainfall_train.v06</th>\n",
              "      <th>rainfall_train.v07</th>\n",
              "      <th>rainfall_train.v08</th>\n",
              "      <th>rainfall_train.v09</th>\n",
              "      <th>rainfall_train.vv</th>\n",
              "      <th>rainfall_train.class_interval</th>\n",
              "    </tr>\n",
              "  </thead>\n",
              "  <tbody>\n",
              "    <tr>\n",
              "      <th>0</th>\n",
              "      <td>1</td>\n",
              "      <td>A</td>\n",
              "      <td>5</td>\n",
              "      <td>1</td>\n",
              "      <td>9</td>\n",
              "      <td>STN001</td>\n",
              "      <td>3</td>\n",
              "      <td>A</td>\n",
              "      <td>5</td>\n",
              "      <td>1</td>\n",
              "      <td>...</td>\n",
              "      <td>0</td>\n",
              "      <td>0</td>\n",
              "      <td>0</td>\n",
              "      <td>0</td>\n",
              "      <td>0</td>\n",
              "      <td>0</td>\n",
              "      <td>0</td>\n",
              "      <td>0</td>\n",
              "      <td>0.0</td>\n",
              "      <td>0</td>\n",
              "    </tr>\n",
              "    <tr>\n",
              "      <th>1</th>\n",
              "      <td>2</td>\n",
              "      <td>A</td>\n",
              "      <td>5</td>\n",
              "      <td>1</td>\n",
              "      <td>9</td>\n",
              "      <td>STN001</td>\n",
              "      <td>6</td>\n",
              "      <td>A</td>\n",
              "      <td>5</td>\n",
              "      <td>1</td>\n",
              "      <td>...</td>\n",
              "      <td>0</td>\n",
              "      <td>0</td>\n",
              "      <td>0</td>\n",
              "      <td>0</td>\n",
              "      <td>0</td>\n",
              "      <td>0</td>\n",
              "      <td>0</td>\n",
              "      <td>0</td>\n",
              "      <td>0.0</td>\n",
              "      <td>0</td>\n",
              "    </tr>\n",
              "    <tr>\n",
              "      <th>2</th>\n",
              "      <td>3</td>\n",
              "      <td>A</td>\n",
              "      <td>5</td>\n",
              "      <td>1</td>\n",
              "      <td>9</td>\n",
              "      <td>STN001</td>\n",
              "      <td>9</td>\n",
              "      <td>A</td>\n",
              "      <td>5</td>\n",
              "      <td>1</td>\n",
              "      <td>...</td>\n",
              "      <td>0</td>\n",
              "      <td>0</td>\n",
              "      <td>0</td>\n",
              "      <td>0</td>\n",
              "      <td>0</td>\n",
              "      <td>0</td>\n",
              "      <td>0</td>\n",
              "      <td>0</td>\n",
              "      <td>0.0</td>\n",
              "      <td>0</td>\n",
              "    </tr>\n",
              "    <tr>\n",
              "      <th>3</th>\n",
              "      <td>4</td>\n",
              "      <td>A</td>\n",
              "      <td>5</td>\n",
              "      <td>1</td>\n",
              "      <td>9</td>\n",
              "      <td>STN001</td>\n",
              "      <td>12</td>\n",
              "      <td>A</td>\n",
              "      <td>5</td>\n",
              "      <td>1</td>\n",
              "      <td>...</td>\n",
              "      <td>0</td>\n",
              "      <td>0</td>\n",
              "      <td>0</td>\n",
              "      <td>0</td>\n",
              "      <td>0</td>\n",
              "      <td>0</td>\n",
              "      <td>0</td>\n",
              "      <td>0</td>\n",
              "      <td>0.0</td>\n",
              "      <td>0</td>\n",
              "    </tr>\n",
              "    <tr>\n",
              "      <th>4</th>\n",
              "      <td>5</td>\n",
              "      <td>A</td>\n",
              "      <td>5</td>\n",
              "      <td>1</td>\n",
              "      <td>9</td>\n",
              "      <td>STN001</td>\n",
              "      <td>15</td>\n",
              "      <td>A</td>\n",
              "      <td>5</td>\n",
              "      <td>2</td>\n",
              "      <td>...</td>\n",
              "      <td>0</td>\n",
              "      <td>0</td>\n",
              "      <td>0</td>\n",
              "      <td>0</td>\n",
              "      <td>0</td>\n",
              "      <td>0</td>\n",
              "      <td>0</td>\n",
              "      <td>0</td>\n",
              "      <td>0.0</td>\n",
              "      <td>0</td>\n",
              "    </tr>\n",
              "  </tbody>\n",
              "</table>\n",
              "<p>5 rows × 22 columns</p>\n",
              "</div>"
            ],
            "text/plain": [
              "   Unnamed: 0 rainfall_train.fc_year  rainfall_train.fc_month  \\\n",
              "0           1                      A                        5   \n",
              "1           2                      A                        5   \n",
              "2           3                      A                        5   \n",
              "3           4                      A                        5   \n",
              "4           5                      A                        5   \n",
              "\n",
              "   rainfall_train.fc_day  rainfall_train.fc_hour rainfall_train.stn4contest  \\\n",
              "0                      1                       9                     STN001   \n",
              "1                      1                       9                     STN001   \n",
              "2                      1                       9                     STN001   \n",
              "3                      1                       9                     STN001   \n",
              "4                      1                       9                     STN001   \n",
              "\n",
              "   rainfall_train.dh rainfall_train.ef_year  rainfall_train.ef_month  \\\n",
              "0                  3                      A                        5   \n",
              "1                  6                      A                        5   \n",
              "2                  9                      A                        5   \n",
              "3                 12                      A                        5   \n",
              "4                 15                      A                        5   \n",
              "\n",
              "   rainfall_train.ef_day  ...  rainfall_train.v02  rainfall_train.v03  \\\n",
              "0                      1  ...                   0                   0   \n",
              "1                      1  ...                   0                   0   \n",
              "2                      1  ...                   0                   0   \n",
              "3                      1  ...                   0                   0   \n",
              "4                      2  ...                   0                   0   \n",
              "\n",
              "   rainfall_train.v04  rainfall_train.v05  rainfall_train.v06  \\\n",
              "0                   0                   0                   0   \n",
              "1                   0                   0                   0   \n",
              "2                   0                   0                   0   \n",
              "3                   0                   0                   0   \n",
              "4                   0                   0                   0   \n",
              "\n",
              "   rainfall_train.v07  rainfall_train.v08  rainfall_train.v09  \\\n",
              "0                   0                   0                   0   \n",
              "1                   0                   0                   0   \n",
              "2                   0                   0                   0   \n",
              "3                   0                   0                   0   \n",
              "4                   0                   0                   0   \n",
              "\n",
              "   rainfall_train.vv  rainfall_train.class_interval  \n",
              "0                0.0                              0  \n",
              "1                0.0                              0  \n",
              "2                0.0                              0  \n",
              "3                0.0                              0  \n",
              "4                0.0                              0  \n",
              "\n",
              "[5 rows x 22 columns]"
            ]
          },
          "execution_count": 6,
          "metadata": {},
          "output_type": "execute_result"
        }
      ],
      "source": [
        "train_data.head()"
      ]
    },
    {
      "cell_type": "code",
      "execution_count": 7,
      "metadata": {},
      "outputs": [
        {
          "ename": "NameError",
          "evalue": "name 'rainfall' is not defined",
          "output_type": "error",
          "traceback": [
            "\u001b[1;31m---------------------------------------------------------------------------\u001b[0m",
            "\u001b[1;31mNameError\u001b[0m                                 Traceback (most recent call last)",
            "Cell \u001b[1;32mIn[7], line 1\u001b[0m\n\u001b[1;32m----> 1\u001b[0m \u001b[43mrainfall\u001b[49m\u001b[38;5;241m.\u001b[39misnull()\u001b[38;5;241m.\u001b[39msum()\n\u001b[0;32m      2\u001b[0m \u001b[38;5;66;03m#결측값 없음\u001b[39;00m\n",
            "\u001b[1;31mNameError\u001b[0m: name 'rainfall' is not defined"
          ]
        }
      ],
      "source": [
        "rainfall.isnull().sum()\n",
        "#결측값 없음"
      ]
    },
    {
      "cell_type": "code",
      "execution_count": null,
      "metadata": {},
      "outputs": [],
      "source": [
        "fc_year = 'rainfall_train.fc_year'\n",
        "fc_month = 'rainfall_train.fc_month'\n",
        "fc_day = 'rainfall_train.fc_day'\n",
        "fc_hour = 'rainfall_train.fc_hour'\n",
        "stn4contest = 'rainfall_train.stn4contest'\n",
        "dh = 'rainfall_train.dh'\n",
        "ef_year = 'rainfall_train.ef_year'\n",
        "ef_month = 'rainfall_train.ef_month'\n",
        "ef_day = 'rainfall_train.ef_day'\n",
        "ef_hour = 'rainfall_train.ef_hour'\n",
        "v01 = 'rainfall_train.v01'\n",
        "v02 = 'rainfall_train.v02'\n",
        "v03 = 'rainfall_train.v03'\n",
        "v04 = 'rainfall_train.v04'\n",
        "v05 = 'rainfall_train.v05'\n",
        "v06 = 'rainfall_train.v06'\n",
        "v07 = 'rainfall_train.v07'\n",
        "v08 = 'rainfall_train.v08'\n",
        "v09 = 'rainfall_train.v09'\n",
        "vv = 'rainfall_train.vv'\n",
        "class_interval = 'rainfall_train.class_interval'"
      ]
    },
    {
      "cell_type": "code",
      "execution_count": null,
      "metadata": {},
      "outputs": [],
      "source": [
        "rainfall = rainfall[(rainfall[fc_month] != 10) & (rainfall[ef_month] != 10)]"
      ]
    },
    {
      "cell_type": "code",
      "execution_count": null,
      "metadata": {
        "colab": {
          "base_uri": "https://localhost:8080/",
          "height": 273
        },
        "id": "GmLPWGbmg_St",
        "outputId": "26b41bd2-ff0d-47d6-c396-dd5d27d9929b"
      },
      "outputs": [
        {
          "data": {
            "text/html": [
              "<div>\n",
              "<style scoped>\n",
              "    .dataframe tbody tr th:only-of-type {\n",
              "        vertical-align: middle;\n",
              "    }\n",
              "\n",
              "    .dataframe tbody tr th {\n",
              "        vertical-align: top;\n",
              "    }\n",
              "\n",
              "    .dataframe thead th {\n",
              "        text-align: right;\n",
              "    }\n",
              "</style>\n",
              "<table border=\"1\" class=\"dataframe\">\n",
              "  <thead>\n",
              "    <tr style=\"text-align: right;\">\n",
              "      <th></th>\n",
              "      <th>Unnamed: 0</th>\n",
              "      <th>rainfall_train.fc_year</th>\n",
              "      <th>rainfall_train.fc_month</th>\n",
              "      <th>rainfall_train.fc_day</th>\n",
              "      <th>rainfall_train.fc_hour</th>\n",
              "      <th>rainfall_train.stn4contest</th>\n",
              "      <th>rainfall_train.dh</th>\n",
              "      <th>rainfall_train.ef_year</th>\n",
              "      <th>rainfall_train.ef_month</th>\n",
              "      <th>rainfall_train.ef_day</th>\n",
              "      <th>...</th>\n",
              "      <th>rainfall_train.v02</th>\n",
              "      <th>rainfall_train.v03</th>\n",
              "      <th>rainfall_train.v04</th>\n",
              "      <th>rainfall_train.v05</th>\n",
              "      <th>rainfall_train.v06</th>\n",
              "      <th>rainfall_train.v07</th>\n",
              "      <th>rainfall_train.v08</th>\n",
              "      <th>rainfall_train.v09</th>\n",
              "      <th>rainfall_train.vv</th>\n",
              "      <th>rainfall_train.class_interval</th>\n",
              "    </tr>\n",
              "  </thead>\n",
              "  <tbody>\n",
              "    <tr>\n",
              "      <th>0</th>\n",
              "      <td>1</td>\n",
              "      <td>0</td>\n",
              "      <td>5</td>\n",
              "      <td>1</td>\n",
              "      <td>9</td>\n",
              "      <td>0</td>\n",
              "      <td>3</td>\n",
              "      <td>0</td>\n",
              "      <td>5</td>\n",
              "      <td>1</td>\n",
              "      <td>...</td>\n",
              "      <td>0</td>\n",
              "      <td>0</td>\n",
              "      <td>0</td>\n",
              "      <td>0</td>\n",
              "      <td>0</td>\n",
              "      <td>0</td>\n",
              "      <td>0</td>\n",
              "      <td>0</td>\n",
              "      <td>0.0</td>\n",
              "      <td>0</td>\n",
              "    </tr>\n",
              "    <tr>\n",
              "      <th>1</th>\n",
              "      <td>2</td>\n",
              "      <td>0</td>\n",
              "      <td>5</td>\n",
              "      <td>1</td>\n",
              "      <td>9</td>\n",
              "      <td>0</td>\n",
              "      <td>6</td>\n",
              "      <td>0</td>\n",
              "      <td>5</td>\n",
              "      <td>1</td>\n",
              "      <td>...</td>\n",
              "      <td>0</td>\n",
              "      <td>0</td>\n",
              "      <td>0</td>\n",
              "      <td>0</td>\n",
              "      <td>0</td>\n",
              "      <td>0</td>\n",
              "      <td>0</td>\n",
              "      <td>0</td>\n",
              "      <td>0.0</td>\n",
              "      <td>0</td>\n",
              "    </tr>\n",
              "    <tr>\n",
              "      <th>2</th>\n",
              "      <td>3</td>\n",
              "      <td>0</td>\n",
              "      <td>5</td>\n",
              "      <td>1</td>\n",
              "      <td>9</td>\n",
              "      <td>0</td>\n",
              "      <td>9</td>\n",
              "      <td>0</td>\n",
              "      <td>5</td>\n",
              "      <td>1</td>\n",
              "      <td>...</td>\n",
              "      <td>0</td>\n",
              "      <td>0</td>\n",
              "      <td>0</td>\n",
              "      <td>0</td>\n",
              "      <td>0</td>\n",
              "      <td>0</td>\n",
              "      <td>0</td>\n",
              "      <td>0</td>\n",
              "      <td>0.0</td>\n",
              "      <td>0</td>\n",
              "    </tr>\n",
              "    <tr>\n",
              "      <th>3</th>\n",
              "      <td>4</td>\n",
              "      <td>0</td>\n",
              "      <td>5</td>\n",
              "      <td>1</td>\n",
              "      <td>9</td>\n",
              "      <td>0</td>\n",
              "      <td>12</td>\n",
              "      <td>0</td>\n",
              "      <td>5</td>\n",
              "      <td>1</td>\n",
              "      <td>...</td>\n",
              "      <td>0</td>\n",
              "      <td>0</td>\n",
              "      <td>0</td>\n",
              "      <td>0</td>\n",
              "      <td>0</td>\n",
              "      <td>0</td>\n",
              "      <td>0</td>\n",
              "      <td>0</td>\n",
              "      <td>0.0</td>\n",
              "      <td>0</td>\n",
              "    </tr>\n",
              "    <tr>\n",
              "      <th>4</th>\n",
              "      <td>5</td>\n",
              "      <td>0</td>\n",
              "      <td>5</td>\n",
              "      <td>1</td>\n",
              "      <td>9</td>\n",
              "      <td>0</td>\n",
              "      <td>15</td>\n",
              "      <td>0</td>\n",
              "      <td>5</td>\n",
              "      <td>2</td>\n",
              "      <td>...</td>\n",
              "      <td>0</td>\n",
              "      <td>0</td>\n",
              "      <td>0</td>\n",
              "      <td>0</td>\n",
              "      <td>0</td>\n",
              "      <td>0</td>\n",
              "      <td>0</td>\n",
              "      <td>0</td>\n",
              "      <td>0.0</td>\n",
              "      <td>0</td>\n",
              "    </tr>\n",
              "  </tbody>\n",
              "</table>\n",
              "<p>5 rows × 22 columns</p>\n",
              "</div>"
            ],
            "text/plain": [
              "   Unnamed: 0  rainfall_train.fc_year  rainfall_train.fc_month  \\\n",
              "0           1                       0                        5   \n",
              "1           2                       0                        5   \n",
              "2           3                       0                        5   \n",
              "3           4                       0                        5   \n",
              "4           5                       0                        5   \n",
              "\n",
              "   rainfall_train.fc_day  rainfall_train.fc_hour  rainfall_train.stn4contest  \\\n",
              "0                      1                       9                           0   \n",
              "1                      1                       9                           0   \n",
              "2                      1                       9                           0   \n",
              "3                      1                       9                           0   \n",
              "4                      1                       9                           0   \n",
              "\n",
              "   rainfall_train.dh  rainfall_train.ef_year  rainfall_train.ef_month  \\\n",
              "0                  3                       0                        5   \n",
              "1                  6                       0                        5   \n",
              "2                  9                       0                        5   \n",
              "3                 12                       0                        5   \n",
              "4                 15                       0                        5   \n",
              "\n",
              "   rainfall_train.ef_day  ...  rainfall_train.v02  rainfall_train.v03  \\\n",
              "0                      1  ...                   0                   0   \n",
              "1                      1  ...                   0                   0   \n",
              "2                      1  ...                   0                   0   \n",
              "3                      1  ...                   0                   0   \n",
              "4                      2  ...                   0                   0   \n",
              "\n",
              "   rainfall_train.v04  rainfall_train.v05  rainfall_train.v06  \\\n",
              "0                   0                   0                   0   \n",
              "1                   0                   0                   0   \n",
              "2                   0                   0                   0   \n",
              "3                   0                   0                   0   \n",
              "4                   0                   0                   0   \n",
              "\n",
              "   rainfall_train.v07  rainfall_train.v08  rainfall_train.v09  \\\n",
              "0                   0                   0                   0   \n",
              "1                   0                   0                   0   \n",
              "2                   0                   0                   0   \n",
              "3                   0                   0                   0   \n",
              "4                   0                   0                   0   \n",
              "\n",
              "   rainfall_train.vv  rainfall_train.class_interval  \n",
              "0                0.0                              0  \n",
              "1                0.0                              0  \n",
              "2                0.0                              0  \n",
              "3                0.0                              0  \n",
              "4                0.0                              0  \n",
              "\n",
              "[5 rows x 22 columns]"
            ]
          },
          "execution_count": 51,
          "metadata": {},
          "output_type": "execute_result"
        }
      ],
      "source": [
        "from sklearn.preprocessing import LabelEncoder\n",
        "\n",
        "le = LabelEncoder()\n",
        "\n",
        "rainfall[fc_year] = le.fit_transform(rainfall[fc_year])\n",
        "rainfall[ef_year] = le.fit_transform(rainfall[ef_year])\n",
        "rainfall[stn4contest] = le.fit_transform(rainfall[stn4contest])\n",
        "\n",
        "rainfall.head()\n"
      ]
    },
    {
      "cell_type": "code",
      "execution_count": null,
      "metadata": {},
      "outputs": [],
      "source": [
        "def classify_rainfall(vv):\n",
        "    if vv < 0.1:\n",
        "        return 0\n",
        "    elif vv < 0.2:\n",
        "        return 1\n",
        "    elif vv < 0.5:\n",
        "        return 2\n",
        "    elif vv < 1.0:\n",
        "        return 3\n",
        "    elif vv < 2.0:\n",
        "        return 4\n",
        "    elif vv < 5.0:\n",
        "        return 5\n",
        "    elif vv < 10.0:\n",
        "        return 6\n",
        "    elif vv < 20.0:\n",
        "        return 7\n",
        "    elif vv < 30.0:\n",
        "        return 8\n",
        "    else:\n",
        "        return 9"
      ]
    },
    {
      "cell_type": "code",
      "execution_count": null,
      "metadata": {},
      "outputs": [],
      "source": [
        "# from matplotlib import pyplot as plt"
      ]
    },
    {
      "cell_type": "code",
      "execution_count": null,
      "metadata": {},
      "outputs": [
        {
          "data": {
            "text/plain": [
              "[<matplotlib.lines.Line2D at 0x2699d79a690>]"
            ]
          },
          "execution_count": 47,
          "metadata": {},
          "output_type": "execute_result"
        }
      ],
      "source": [
        "# ax.plot(rainfall[ef_day], rainfall[vv])"
      ]
    },
    {
      "cell_type": "code",
      "execution_count": null,
      "metadata": {},
      "outputs": [],
      "source": [
        "# plt.show()"
      ]
    },
    {
      "cell_type": "code",
      "execution_count": null,
      "metadata": {
        "colab": {
          "base_uri": "https://localhost:8080/"
        },
        "id": "CvIzlR9deTYY",
        "outputId": "bd5cbb47-99f2-4b5c-cc72-c552fd554979"
      },
      "outputs": [
        {
          "name": "stdout",
          "output_type": "stream",
          "text": [
            "RangeIndex(start=0, stop=1457252, step=1)\n"
          ]
        }
      ],
      "source": [
        "print(rainfall.index)"
      ]
    },
    {
      "cell_type": "code",
      "execution_count": null,
      "metadata": {
        "id": "X7b2bQLaeXbo"
      },
      "outputs": [],
      "source": [
        "features = [fc_year, fc_month, fc_day, fc_hour, stn4contest, dh,\n",
        "       ef_year, ef_month, ef_day, ef_hour, \n",
        "       v01, v02, v03, v04, v05, v06, v07, v08, v09]"
      ]
    },
    {
      "cell_type": "code",
      "execution_count": null,
      "metadata": {},
      "outputs": [],
      "source": [
        "rainfall[class_interval] = rainfall[vv].apply(classify_rainfall)"
      ]
    },
    {
      "cell_type": "code",
      "execution_count": null,
      "metadata": {
        "id": "gdAG0UrMeaCI"
      },
      "outputs": [],
      "source": [
        "X = rainfall[features]\n",
        "y = rainfall[class_interval]"
      ]
    },
    {
      "cell_type": "code",
      "execution_count": null,
      "metadata": {},
      "outputs": [],
      "source": [
        "from sklearn.model_selection import train_test_split\n",
        "X_train, X_test, y_train, y_test = train_test_split(X, y, test_size=0.2, random_state=42)"
      ]
    },
    {
      "cell_type": "code",
      "execution_count": null,
      "metadata": {
        "colab": {
          "base_uri": "https://localhost:8080/",
          "height": 184
        },
        "id": "KHeNs1HLedQw",
        "outputId": "1b2859ea-fd2a-4ab3-fd1a-4aa894cf54cc"
      },
      "outputs": [],
      "source": [
        "from sklearn.ensemble import RandomForestRegressor, GradientBoostingRegressor, ExtraTreesRegressor\n",
        "import xgboost as xgb\n",
        "import lightgbm as lgb\n",
        "\n",
        "# 모델\n",
        "rf = RandomForestRegressor(n_estimators=100, random_state=42)\n",
        "gbr = GradientBoostingRegressor(n_estimators=100, random_state=42)\n",
        "etr = ExtraTreesRegressor(n_estimators=100, random_state=42)\n",
        "xgbr = xgb.XGBRegressor(n_estimators=100, random_state=42)\n",
        "lgbmr = lgb.LGBMRegressor(n_estimators=100, random_state=42)"
      ]
    },
    {
      "cell_type": "code",
      "execution_count": null,
      "metadata": {},
      "outputs": [
        {
          "name": "stdout",
          "output_type": "stream",
          "text": [
            "[LightGBM] [Info] Auto-choosing row-wise multi-threading, the overhead of testing was 0.027044 seconds.\n",
            "You can set `force_row_wise=true` to remove the overhead.\n",
            "And if memory is not enough, you can set `force_col_wise=true`.\n",
            "[LightGBM] [Info] Total Bins 1008\n",
            "[LightGBM] [Info] Number of data points in the train set: 1165801, number of used features: 19\n",
            "[LightGBM] [Info] Start training from score 0.663414\n"
          ]
        },
        {
          "data": {
            "text/html": [
              "<style>#sk-container-id-1 {\n",
              "  /* Definition of color scheme common for light and dark mode */\n",
              "  --sklearn-color-text: black;\n",
              "  --sklearn-color-line: gray;\n",
              "  /* Definition of color scheme for unfitted estimators */\n",
              "  --sklearn-color-unfitted-level-0: #fff5e6;\n",
              "  --sklearn-color-unfitted-level-1: #f6e4d2;\n",
              "  --sklearn-color-unfitted-level-2: #ffe0b3;\n",
              "  --sklearn-color-unfitted-level-3: chocolate;\n",
              "  /* Definition of color scheme for fitted estimators */\n",
              "  --sklearn-color-fitted-level-0: #f0f8ff;\n",
              "  --sklearn-color-fitted-level-1: #d4ebff;\n",
              "  --sklearn-color-fitted-level-2: #b3dbfd;\n",
              "  --sklearn-color-fitted-level-3: cornflowerblue;\n",
              "\n",
              "  /* Specific color for light theme */\n",
              "  --sklearn-color-text-on-default-background: var(--sg-text-color, var(--theme-code-foreground, var(--jp-content-font-color1, black)));\n",
              "  --sklearn-color-background: var(--sg-background-color, var(--theme-background, var(--jp-layout-color0, white)));\n",
              "  --sklearn-color-border-box: var(--sg-text-color, var(--theme-code-foreground, var(--jp-content-font-color1, black)));\n",
              "  --sklearn-color-icon: #696969;\n",
              "\n",
              "  @media (prefers-color-scheme: dark) {\n",
              "    /* Redefinition of color scheme for dark theme */\n",
              "    --sklearn-color-text-on-default-background: var(--sg-text-color, var(--theme-code-foreground, var(--jp-content-font-color1, white)));\n",
              "    --sklearn-color-background: var(--sg-background-color, var(--theme-background, var(--jp-layout-color0, #111)));\n",
              "    --sklearn-color-border-box: var(--sg-text-color, var(--theme-code-foreground, var(--jp-content-font-color1, white)));\n",
              "    --sklearn-color-icon: #878787;\n",
              "  }\n",
              "}\n",
              "\n",
              "#sk-container-id-1 {\n",
              "  color: var(--sklearn-color-text);\n",
              "}\n",
              "\n",
              "#sk-container-id-1 pre {\n",
              "  padding: 0;\n",
              "}\n",
              "\n",
              "#sk-container-id-1 input.sk-hidden--visually {\n",
              "  border: 0;\n",
              "  clip: rect(1px 1px 1px 1px);\n",
              "  clip: rect(1px, 1px, 1px, 1px);\n",
              "  height: 1px;\n",
              "  margin: -1px;\n",
              "  overflow: hidden;\n",
              "  padding: 0;\n",
              "  position: absolute;\n",
              "  width: 1px;\n",
              "}\n",
              "\n",
              "#sk-container-id-1 div.sk-dashed-wrapped {\n",
              "  border: 1px dashed var(--sklearn-color-line);\n",
              "  margin: 0 0.4em 0.5em 0.4em;\n",
              "  box-sizing: border-box;\n",
              "  padding-bottom: 0.4em;\n",
              "  background-color: var(--sklearn-color-background);\n",
              "}\n",
              "\n",
              "#sk-container-id-1 div.sk-container {\n",
              "  /* jupyter's `normalize.less` sets `[hidden] { display: none; }`\n",
              "     but bootstrap.min.css set `[hidden] { display: none !important; }`\n",
              "     so we also need the `!important` here to be able to override the\n",
              "     default hidden behavior on the sphinx rendered scikit-learn.org.\n",
              "     See: https://github.com/scikit-learn/scikit-learn/issues/21755 */\n",
              "  display: inline-block !important;\n",
              "  position: relative;\n",
              "}\n",
              "\n",
              "#sk-container-id-1 div.sk-text-repr-fallback {\n",
              "  display: none;\n",
              "}\n",
              "\n",
              "div.sk-parallel-item,\n",
              "div.sk-serial,\n",
              "div.sk-item {\n",
              "  /* draw centered vertical line to link estimators */\n",
              "  background-image: linear-gradient(var(--sklearn-color-text-on-default-background), var(--sklearn-color-text-on-default-background));\n",
              "  background-size: 2px 100%;\n",
              "  background-repeat: no-repeat;\n",
              "  background-position: center center;\n",
              "}\n",
              "\n",
              "/* Parallel-specific style estimator block */\n",
              "\n",
              "#sk-container-id-1 div.sk-parallel-item::after {\n",
              "  content: \"\";\n",
              "  width: 100%;\n",
              "  border-bottom: 2px solid var(--sklearn-color-text-on-default-background);\n",
              "  flex-grow: 1;\n",
              "}\n",
              "\n",
              "#sk-container-id-1 div.sk-parallel {\n",
              "  display: flex;\n",
              "  align-items: stretch;\n",
              "  justify-content: center;\n",
              "  background-color: var(--sklearn-color-background);\n",
              "  position: relative;\n",
              "}\n",
              "\n",
              "#sk-container-id-1 div.sk-parallel-item {\n",
              "  display: flex;\n",
              "  flex-direction: column;\n",
              "}\n",
              "\n",
              "#sk-container-id-1 div.sk-parallel-item:first-child::after {\n",
              "  align-self: flex-end;\n",
              "  width: 50%;\n",
              "}\n",
              "\n",
              "#sk-container-id-1 div.sk-parallel-item:last-child::after {\n",
              "  align-self: flex-start;\n",
              "  width: 50%;\n",
              "}\n",
              "\n",
              "#sk-container-id-1 div.sk-parallel-item:only-child::after {\n",
              "  width: 0;\n",
              "}\n",
              "\n",
              "/* Serial-specific style estimator block */\n",
              "\n",
              "#sk-container-id-1 div.sk-serial {\n",
              "  display: flex;\n",
              "  flex-direction: column;\n",
              "  align-items: center;\n",
              "  background-color: var(--sklearn-color-background);\n",
              "  padding-right: 1em;\n",
              "  padding-left: 1em;\n",
              "}\n",
              "\n",
              "\n",
              "/* Toggleable style: style used for estimator/Pipeline/ColumnTransformer box that is\n",
              "clickable and can be expanded/collapsed.\n",
              "- Pipeline and ColumnTransformer use this feature and define the default style\n",
              "- Estimators will overwrite some part of the style using the `sk-estimator` class\n",
              "*/\n",
              "\n",
              "/* Pipeline and ColumnTransformer style (default) */\n",
              "\n",
              "#sk-container-id-1 div.sk-toggleable {\n",
              "  /* Default theme specific background. It is overwritten whether we have a\n",
              "  specific estimator or a Pipeline/ColumnTransformer */\n",
              "  background-color: var(--sklearn-color-background);\n",
              "}\n",
              "\n",
              "/* Toggleable label */\n",
              "#sk-container-id-1 label.sk-toggleable__label {\n",
              "  cursor: pointer;\n",
              "  display: block;\n",
              "  width: 100%;\n",
              "  margin-bottom: 0;\n",
              "  padding: 0.5em;\n",
              "  box-sizing: border-box;\n",
              "  text-align: center;\n",
              "}\n",
              "\n",
              "#sk-container-id-1 label.sk-toggleable__label-arrow:before {\n",
              "  /* Arrow on the left of the label */\n",
              "  content: \"▸\";\n",
              "  float: left;\n",
              "  margin-right: 0.25em;\n",
              "  color: var(--sklearn-color-icon);\n",
              "}\n",
              "\n",
              "#sk-container-id-1 label.sk-toggleable__label-arrow:hover:before {\n",
              "  color: var(--sklearn-color-text);\n",
              "}\n",
              "\n",
              "/* Toggleable content - dropdown */\n",
              "\n",
              "#sk-container-id-1 div.sk-toggleable__content {\n",
              "  max-height: 0;\n",
              "  max-width: 0;\n",
              "  overflow: hidden;\n",
              "  text-align: left;\n",
              "  /* unfitted */\n",
              "  background-color: var(--sklearn-color-unfitted-level-0);\n",
              "}\n",
              "\n",
              "#sk-container-id-1 div.sk-toggleable__content.fitted {\n",
              "  /* fitted */\n",
              "  background-color: var(--sklearn-color-fitted-level-0);\n",
              "}\n",
              "\n",
              "#sk-container-id-1 div.sk-toggleable__content pre {\n",
              "  margin: 0.2em;\n",
              "  border-radius: 0.25em;\n",
              "  color: var(--sklearn-color-text);\n",
              "  /* unfitted */\n",
              "  background-color: var(--sklearn-color-unfitted-level-0);\n",
              "}\n",
              "\n",
              "#sk-container-id-1 div.sk-toggleable__content.fitted pre {\n",
              "  /* unfitted */\n",
              "  background-color: var(--sklearn-color-fitted-level-0);\n",
              "}\n",
              "\n",
              "#sk-container-id-1 input.sk-toggleable__control:checked~div.sk-toggleable__content {\n",
              "  /* Expand drop-down */\n",
              "  max-height: 200px;\n",
              "  max-width: 100%;\n",
              "  overflow: auto;\n",
              "}\n",
              "\n",
              "#sk-container-id-1 input.sk-toggleable__control:checked~label.sk-toggleable__label-arrow:before {\n",
              "  content: \"▾\";\n",
              "}\n",
              "\n",
              "/* Pipeline/ColumnTransformer-specific style */\n",
              "\n",
              "#sk-container-id-1 div.sk-label input.sk-toggleable__control:checked~label.sk-toggleable__label {\n",
              "  color: var(--sklearn-color-text);\n",
              "  background-color: var(--sklearn-color-unfitted-level-2);\n",
              "}\n",
              "\n",
              "#sk-container-id-1 div.sk-label.fitted input.sk-toggleable__control:checked~label.sk-toggleable__label {\n",
              "  background-color: var(--sklearn-color-fitted-level-2);\n",
              "}\n",
              "\n",
              "/* Estimator-specific style */\n",
              "\n",
              "/* Colorize estimator box */\n",
              "#sk-container-id-1 div.sk-estimator input.sk-toggleable__control:checked~label.sk-toggleable__label {\n",
              "  /* unfitted */\n",
              "  background-color: var(--sklearn-color-unfitted-level-2);\n",
              "}\n",
              "\n",
              "#sk-container-id-1 div.sk-estimator.fitted input.sk-toggleable__control:checked~label.sk-toggleable__label {\n",
              "  /* fitted */\n",
              "  background-color: var(--sklearn-color-fitted-level-2);\n",
              "}\n",
              "\n",
              "#sk-container-id-1 div.sk-label label.sk-toggleable__label,\n",
              "#sk-container-id-1 div.sk-label label {\n",
              "  /* The background is the default theme color */\n",
              "  color: var(--sklearn-color-text-on-default-background);\n",
              "}\n",
              "\n",
              "/* On hover, darken the color of the background */\n",
              "#sk-container-id-1 div.sk-label:hover label.sk-toggleable__label {\n",
              "  color: var(--sklearn-color-text);\n",
              "  background-color: var(--sklearn-color-unfitted-level-2);\n",
              "}\n",
              "\n",
              "/* Label box, darken color on hover, fitted */\n",
              "#sk-container-id-1 div.sk-label.fitted:hover label.sk-toggleable__label.fitted {\n",
              "  color: var(--sklearn-color-text);\n",
              "  background-color: var(--sklearn-color-fitted-level-2);\n",
              "}\n",
              "\n",
              "/* Estimator label */\n",
              "\n",
              "#sk-container-id-1 div.sk-label label {\n",
              "  font-family: monospace;\n",
              "  font-weight: bold;\n",
              "  display: inline-block;\n",
              "  line-height: 1.2em;\n",
              "}\n",
              "\n",
              "#sk-container-id-1 div.sk-label-container {\n",
              "  text-align: center;\n",
              "}\n",
              "\n",
              "/* Estimator-specific */\n",
              "#sk-container-id-1 div.sk-estimator {\n",
              "  font-family: monospace;\n",
              "  border: 1px dotted var(--sklearn-color-border-box);\n",
              "  border-radius: 0.25em;\n",
              "  box-sizing: border-box;\n",
              "  margin-bottom: 0.5em;\n",
              "  /* unfitted */\n",
              "  background-color: var(--sklearn-color-unfitted-level-0);\n",
              "}\n",
              "\n",
              "#sk-container-id-1 div.sk-estimator.fitted {\n",
              "  /* fitted */\n",
              "  background-color: var(--sklearn-color-fitted-level-0);\n",
              "}\n",
              "\n",
              "/* on hover */\n",
              "#sk-container-id-1 div.sk-estimator:hover {\n",
              "  /* unfitted */\n",
              "  background-color: var(--sklearn-color-unfitted-level-2);\n",
              "}\n",
              "\n",
              "#sk-container-id-1 div.sk-estimator.fitted:hover {\n",
              "  /* fitted */\n",
              "  background-color: var(--sklearn-color-fitted-level-2);\n",
              "}\n",
              "\n",
              "/* Specification for estimator info (e.g. \"i\" and \"?\") */\n",
              "\n",
              "/* Common style for \"i\" and \"?\" */\n",
              "\n",
              ".sk-estimator-doc-link,\n",
              "a:link.sk-estimator-doc-link,\n",
              "a:visited.sk-estimator-doc-link {\n",
              "  float: right;\n",
              "  font-size: smaller;\n",
              "  line-height: 1em;\n",
              "  font-family: monospace;\n",
              "  background-color: var(--sklearn-color-background);\n",
              "  border-radius: 1em;\n",
              "  height: 1em;\n",
              "  width: 1em;\n",
              "  text-decoration: none !important;\n",
              "  margin-left: 1ex;\n",
              "  /* unfitted */\n",
              "  border: var(--sklearn-color-unfitted-level-1) 1pt solid;\n",
              "  color: var(--sklearn-color-unfitted-level-1);\n",
              "}\n",
              "\n",
              ".sk-estimator-doc-link.fitted,\n",
              "a:link.sk-estimator-doc-link.fitted,\n",
              "a:visited.sk-estimator-doc-link.fitted {\n",
              "  /* fitted */\n",
              "  border: var(--sklearn-color-fitted-level-1) 1pt solid;\n",
              "  color: var(--sklearn-color-fitted-level-1);\n",
              "}\n",
              "\n",
              "/* On hover */\n",
              "div.sk-estimator:hover .sk-estimator-doc-link:hover,\n",
              ".sk-estimator-doc-link:hover,\n",
              "div.sk-label-container:hover .sk-estimator-doc-link:hover,\n",
              ".sk-estimator-doc-link:hover {\n",
              "  /* unfitted */\n",
              "  background-color: var(--sklearn-color-unfitted-level-3);\n",
              "  color: var(--sklearn-color-background);\n",
              "  text-decoration: none;\n",
              "}\n",
              "\n",
              "div.sk-estimator.fitted:hover .sk-estimator-doc-link.fitted:hover,\n",
              ".sk-estimator-doc-link.fitted:hover,\n",
              "div.sk-label-container:hover .sk-estimator-doc-link.fitted:hover,\n",
              ".sk-estimator-doc-link.fitted:hover {\n",
              "  /* fitted */\n",
              "  background-color: var(--sklearn-color-fitted-level-3);\n",
              "  color: var(--sklearn-color-background);\n",
              "  text-decoration: none;\n",
              "}\n",
              "\n",
              "/* Span, style for the box shown on hovering the info icon */\n",
              ".sk-estimator-doc-link span {\n",
              "  display: none;\n",
              "  z-index: 9999;\n",
              "  position: relative;\n",
              "  font-weight: normal;\n",
              "  right: .2ex;\n",
              "  padding: .5ex;\n",
              "  margin: .5ex;\n",
              "  width: min-content;\n",
              "  min-width: 20ex;\n",
              "  max-width: 50ex;\n",
              "  color: var(--sklearn-color-text);\n",
              "  box-shadow: 2pt 2pt 4pt #999;\n",
              "  /* unfitted */\n",
              "  background: var(--sklearn-color-unfitted-level-0);\n",
              "  border: .5pt solid var(--sklearn-color-unfitted-level-3);\n",
              "}\n",
              "\n",
              ".sk-estimator-doc-link.fitted span {\n",
              "  /* fitted */\n",
              "  background: var(--sklearn-color-fitted-level-0);\n",
              "  border: var(--sklearn-color-fitted-level-3);\n",
              "}\n",
              "\n",
              ".sk-estimator-doc-link:hover span {\n",
              "  display: block;\n",
              "}\n",
              "\n",
              "/* \"?\"-specific style due to the `<a>` HTML tag */\n",
              "\n",
              "#sk-container-id-1 a.estimator_doc_link {\n",
              "  float: right;\n",
              "  font-size: 1rem;\n",
              "  line-height: 1em;\n",
              "  font-family: monospace;\n",
              "  background-color: var(--sklearn-color-background);\n",
              "  border-radius: 1rem;\n",
              "  height: 1rem;\n",
              "  width: 1rem;\n",
              "  text-decoration: none;\n",
              "  /* unfitted */\n",
              "  color: var(--sklearn-color-unfitted-level-1);\n",
              "  border: var(--sklearn-color-unfitted-level-1) 1pt solid;\n",
              "}\n",
              "\n",
              "#sk-container-id-1 a.estimator_doc_link.fitted {\n",
              "  /* fitted */\n",
              "  border: var(--sklearn-color-fitted-level-1) 1pt solid;\n",
              "  color: var(--sklearn-color-fitted-level-1);\n",
              "}\n",
              "\n",
              "/* On hover */\n",
              "#sk-container-id-1 a.estimator_doc_link:hover {\n",
              "  /* unfitted */\n",
              "  background-color: var(--sklearn-color-unfitted-level-3);\n",
              "  color: var(--sklearn-color-background);\n",
              "  text-decoration: none;\n",
              "}\n",
              "\n",
              "#sk-container-id-1 a.estimator_doc_link.fitted:hover {\n",
              "  /* fitted */\n",
              "  background-color: var(--sklearn-color-fitted-level-3);\n",
              "}\n",
              "</style><div id=\"sk-container-id-1\" class=\"sk-top-container\"><div class=\"sk-text-repr-fallback\"><pre>LGBMRegressor(random_state=42)</pre><b>In a Jupyter environment, please rerun this cell to show the HTML representation or trust the notebook. <br />On GitHub, the HTML representation is unable to render, please try loading this page with nbviewer.org.</b></div><div class=\"sk-container\" hidden><div class=\"sk-item\"><div class=\"sk-estimator fitted sk-toggleable\"><input class=\"sk-toggleable__control sk-hidden--visually\" id=\"sk-estimator-id-1\" type=\"checkbox\" checked><label for=\"sk-estimator-id-1\" class=\"sk-toggleable__label fitted sk-toggleable__label-arrow fitted\">&nbsp;LGBMRegressor<span class=\"sk-estimator-doc-link fitted\">i<span>Fitted</span></span></label><div class=\"sk-toggleable__content fitted\"><pre>LGBMRegressor(random_state=42)</pre></div> </div></div></div></div>"
            ],
            "text/plain": [
              "LGBMRegressor(random_state=42)"
            ]
          },
          "execution_count": 61,
          "metadata": {},
          "output_type": "execute_result"
        }
      ],
      "source": [
        "# 학습\n",
        "rf.fit(X_train, y_train)\n",
        "gbr.fit(X_train, y_train) \n",
        "etr.fit(X_train, y_train)\n",
        "xgbr.fit(X_train, y_train)\n",
        "lgbmr.fit(X_train, y_train)"
      ]
    },
    {
      "cell_type": "code",
      "execution_count": null,
      "metadata": {
        "id": "Tt85QgKivWfT"
      },
      "outputs": [],
      "source": [
        "# 예측값\n",
        "rf_pred = rf.predict(X_test)\n",
        "gbr_pred = gbr.predict(X_test)\n",
        "etr_pred = etr.predict(X_test)\n",
        "xgbr_pred = xgbr.predict(X_test)\n",
        "lgbmr_pred = lgbmr.predict(X_test)\n"
      ]
    },
    {
      "cell_type": "code",
      "execution_count": null,
      "metadata": {},
      "outputs": [
        {
          "name": "stdout",
          "output_type": "stream",
          "text": [
            "extratree모델의 정확도 : 0.6449733971869778\n"
          ]
        }
      ],
      "source": [
        "from sklearn.preprocessing import StandardScaler\n",
        "std = StandardScaler()\n",
        "std.fit(X_train)\n",
        "X_train_scaled = std.transform(X_train)\n",
        "X_test_scaled = std.transform(X_test)\n",
        "etr.fit(X_train_scaled, y_train)\n",
        "print('extratree모델의 정확도 :', round(etr.score(X_test_scaled, y_test), 1457252))"
      ]
    },
    {
      "cell_type": "code",
      "execution_count": null,
      "metadata": {},
      "outputs": [
        {
          "name": "stdout",
          "output_type": "stream",
          "text": [
            "모델의 정확도 : 0.7957301942426465\n"
          ]
        }
      ],
      "source": [
        "# rf.fit(X_train_scaled, y_train)\n",
        "# print('randomforest모델의 정확도 :', round(rf.score(X_test_scaled, y_test), 1457252))"
      ]
    },
    {
      "cell_type": "code",
      "execution_count": null,
      "metadata": {},
      "outputs": [
        {
          "name": "stdout",
          "output_type": "stream",
          "text": [
            "[LightGBM] [Info] Auto-choosing row-wise multi-threading, the overhead of testing was 0.022752 seconds.\n",
            "You can set `force_row_wise=true` to remove the overhead.\n",
            "And if memory is not enough, you can set `force_col_wise=true`.\n",
            "[LightGBM] [Info] Total Bins 1021\n",
            "[LightGBM] [Info] Number of data points in the train set: 1165801, number of used features: 19\n",
            "[LightGBM] [Info] Start training from score 0.663414\n",
            "randomforest모델의 정확도 : 0.6698886795801169\n",
            "gbr모델의 정확도 : 0.3004028342231466\n",
            "xgbr모델의 정확도 : 0.44009196758270264\n",
            "lgbmr모델의 정확도 : 0.3976807874433218\n"
          ]
        }
      ],
      "source": [
        "# rf.fit(X_train_scaled, y_train)\n",
        "# gbr.fit(X_train_scaled, y_train)\n",
        "# xgbr.fit(X_train_scaled, y_train)\n",
        "# lgbmr.fit(X_train_scaled, y_train)\n",
        "# print('randomforest모델의 정확도 :', round(rf.score(X_test_scaled, y_test), 1457252))\n",
        "# print('gbr모델의 정확도 :', round(gbr.score(X_test_scaled, y_test), 1457252)),\n",
        "# print('xgbr모델의 정확도 :', round(xgbr.score(X_test_scaled, y_test), 1457252)),\n",
        "# print('lgbmr모델의 정확도 :', round(lgbmr.score(X_test_scaled, y_test), 1457252))"
      ]
    },
    {
      "cell_type": "code",
      "execution_count": null,
      "metadata": {},
      "outputs": [],
      "source": [
        "from sklearn.model_selection import GridSearchCV\n",
        "\n",
        "model_etr = ExtraTreesRegressor(max_depth=10, min_samples_leaf=4, random_state=42)\n",
        "\n",
        "param_grid = {\n",
        "    'n_estimators' : [100, 200, 300],\n",
        "    'max_depth': [10, 20, None],\n",
        "    'min_samples_split':[2, 5, 10],\n",
        "    'min_samples_leaf':[1, 2, 4]\n",
        "}\n",
        "\n",
        "grid_search = GridSearchCV(RandomForestRegressor(), param_grid, cv=5, scoring='neg_mean_squared_error')\n",
        "grid_search.fit(X_train, y_train)\n",
        "print(grid_search.best_params_)"
      ]
    },
    {
      "cell_type": "code",
      "execution_count": null,
      "metadata": {},
      "outputs": [
        {
          "name": "stdout",
          "output_type": "stream",
          "text": [
            "etr Train Score: 1.0\n",
            "etr Test MSE: 1.0937316317322638\n",
            "etr Test Score: 0.6449848614535623\n",
            "rf Train Score: 0.9537844537351642\n",
            "rf Test MSE: 1.016669503621535\n",
            "rf Test Score: 0.6699985131521818\n",
            "gbr Train Score: 0.3010894374311157\n",
            "gbr Test MSE: 2.155320904943034\n",
            "gbr Test Score: 0.3004028342231466\n",
            "xgbr Train Score: 0.45403796434402466\n",
            "xgbr Test MSE: 1.724965998759633\n",
            "xgbr Test Score: 0.44009196758270264\n",
            "[LightGBM] [Info] Auto-choosing row-wise multi-threading, the overhead of testing was 0.026104 seconds.\n",
            "You can set `force_row_wise=true` to remove the overhead.\n",
            "And if memory is not enough, you can set `force_col_wise=true`.\n",
            "[LightGBM] [Info] Total Bins 1008\n",
            "[LightGBM] [Info] Number of data points in the train set: 1165801, number of used features: 19\n",
            "[LightGBM] [Info] Start training from score 0.663414\n",
            "lgbmr Train Score: 0.4018405493722229\n",
            "lgbmr Test MSE: 1.8556267145975147\n",
            "lgbmr Test Score: 0.3976807874433218\n"
          ]
        }
      ],
      "source": [
        "from sklearn.metrics import mean_squared_error, r2_score\n",
        "\n",
        "models = {'etr':etr, 'rf':rf, 'gbr':gbr, 'xgbr':xgbr, 'lgbmr':lgbmr}\n",
        "for name, model in models.items():\n",
        "    model.fit(X_train, y_train)\n",
        "    train_score = model.score(X_train, y_train)\n",
        "    predictions = model.predict(X_test)\n",
        "    mse = mean_squared_error(y_test, predictions)\n",
        "    test_score = r2_score(y_test, predictions)\n",
        "    print(f'{name} Train Score: {train_score}')\n",
        "    print(f'{name} Test MSE: {mse}')\n",
        "    print(f'{name} Test Score: {test_score}')"
      ]
    },
    {
      "cell_type": "code",
      "execution_count": null,
      "metadata": {
        "id": "p9wSd7EMwb0V"
      },
      "outputs": [],
      "source": [
        "ensemble_pred = (rf_pred + gbr_pred + etr_pred + xgbr_pred + lgbmr_pred)/5"
      ]
    },
    {
      "cell_type": "code",
      "execution_count": null,
      "metadata": {},
      "outputs": [],
      "source": [
        "import numpy as np"
      ]
    },
    {
      "cell_type": "code",
      "execution_count": null,
      "metadata": {
        "id": "S5ixdUKz0cz-"
      },
      "outputs": [],
      "source": [
        "from sklearn import metrics\n",
        "from sklearn.metrics import mean_squared_error"
      ]
    },
    {
      "cell_type": "code",
      "execution_count": null,
      "metadata": {
        "colab": {
          "base_uri": "https://localhost:8080/"
        },
        "id": "VHyBcjv21ygn",
        "outputId": "abade76a-0ff6-4ae7-d99e-3f2b434c6284"
      },
      "outputs": [
        {
          "name": "stdout",
          "output_type": "stream",
          "text": [
            "mse of ensemble model : 1.3882176269631483\n"
          ]
        }
      ],
      "source": [
        "mse = mean_squared_error(y_test, ensemble_pred)\n",
        "print(f'mse of ensemble model : {mse}')"
      ]
    },
    {
      "cell_type": "code",
      "execution_count": null,
      "metadata": {
        "colab": {
          "base_uri": "https://localhost:8080/"
        },
        "id": "tGezZ-Z_2LTG",
        "outputId": "0d66bb0f-ebe9-486e-bcdc-ba314f14433f"
      },
      "outputs": [
        {
          "name": "stdout",
          "output_type": "stream",
          "text": [
            "rmse of ensemble model : 1.1782264752428322\n"
          ]
        }
      ],
      "source": [
        "rmse = mean_squared_error(y_test, ensemble_pred)**0.5\n",
        "print(f'rmse of ensemble model : {rmse}')"
      ]
    },
    {
      "cell_type": "code",
      "execution_count": null,
      "metadata": {},
      "outputs": [
        {
          "name": "stdout",
          "output_type": "stream",
          "text": [
            "mae: 0.6368567575337944, mse: 1.3882176269631483, rmse:1.1782264752428322\n"
          ]
        }
      ],
      "source": [
        "from sklearn.metrics import mean_squared_error, mean_absolute_error\n",
        "mae = mean_absolute_error(y_test, ensemble_pred) ## mae\n",
        "\n",
        "def evaluation(y_test , ensemble_pred):\n",
        "    \n",
        "    mae = mean_absolute_error(y_test, ensemble_pred) \n",
        "    mse = mean_squared_error(y_test,ensemble_pred) \n",
        "    rmse = np.sqrt(mean_squared_error(y_test, ensemble_pred)) \n",
        "\n",
        "print(f'mae: {mae}, mse: {mse}, rmse:{rmse}')"
      ]
    },
    {
      "cell_type": "code",
      "execution_count": null,
      "metadata": {},
      "outputs": [
        {
          "name": "stdout",
          "output_type": "stream",
          "text": [
            "mae2: 0.4831541837221352\n"
          ]
        }
      ],
      "source": [
        "mae2 = mean_absolute_error(y_test, rf_pred)\n",
        "print(f'mae2: {mae2}')"
      ]
    },
    {
      "cell_type": "code",
      "execution_count": null,
      "metadata": {},
      "outputs": [
        {
          "name": "stdout",
          "output_type": "stream",
          "text": [
            "mae3: 0.5048056791707698\n"
          ]
        }
      ],
      "source": [
        "mae3 = mean_absolute_error(y_test, etr_pred)\n",
        "print(f'mae3: {mae3}')"
      ]
    },
    {
      "cell_type": "code",
      "execution_count": null,
      "metadata": {},
      "outputs": [
        {
          "name": "stdout",
          "output_type": "stream",
          "text": [
            "mae4: 0.8133793439252994\n"
          ]
        }
      ],
      "source": [
        "mae4 = mean_absolute_error(y_test, gbr_pred)\n",
        "print(f'mae4: {mae4}')"
      ]
    },
    {
      "cell_type": "code",
      "execution_count": null,
      "metadata": {},
      "outputs": [
        {
          "name": "stdout",
          "output_type": "stream",
          "text": [
            "mae5: 0.7141658623779976\n"
          ]
        }
      ],
      "source": [
        "mae5 = mean_absolute_error(y_test, xgbr_pred)\n",
        "print(f'mae5: {mae5}')\n"
      ]
    },
    {
      "cell_type": "code",
      "execution_count": null,
      "metadata": {},
      "outputs": [
        {
          "name": "stdout",
          "output_type": "stream",
          "text": [
            "mae6: 0.7404959095690845\n"
          ]
        }
      ],
      "source": [
        "mae6 = mean_absolute_error(y_test, lgbmr_pred)\n",
        "print(f'mae6: {mae6}')"
      ]
    },
    {
      "cell_type": "code",
      "execution_count": null,
      "metadata": {},
      "outputs": [],
      "source": [
        "import tqdm\n",
        "\n",
        "class TQDMSearchCV(GridSearchCV):\n",
        "    def fit(self, X, y=None, **fit_params):\n",
        "        n_candidates = len(self.param_grid)\n",
        "        n_splits = self.cv\n",
        "        with tqdm(total=n_candidates * n_splits) as pbar:\n",
        "            def on_fit_end(estimator, X_test, y_test):\n",
        "                pbar.update()\n",
        "            self._fit_and_score = lambda *args, **kwargs: on_fit_end(*args) or GridSearchCV._fit_and_score(*args, **kwargs)\n",
        "            return super(TQDMSearchCV, self).fit(X, y, **fit_params)"
      ]
    },
    {
      "cell_type": "code",
      "execution_count": null,
      "metadata": {},
      "outputs": [],
      "source": [
        "X_train_split, X_valid_split, y_train_split, y_valid_split = train_test_split(X_train, y_train, test_size=0.2, random_state=42)"
      ]
    },
    {
      "cell_type": "code",
      "execution_count": null,
      "metadata": {},
      "outputs": [],
      "source": [
        "best_estimators = {}\n",
        "for model_name, model in models.items():\n",
        "    grid_search = TQDMSearchCV(model, param_grid, cv=5, scoring='neg_mean_squared_error')\n",
        "    grid_search.fit(X_train_split, y_train_split)\n",
        "    best_estimators[model_name] = grid_search.best_estimator_\n",
        "    print(f\"{model_name} best params: {grid_search.best_params_}\")\n",
        "    y_pred = grid_search.predict(X_valid_split)\n",
        "    mse = mean_squared_error(y_valid_split, y_pred)\n",
        "    print(f\"{model_name} validation MSE: {mse}\")"
      ]
    },
    {
      "cell_type": "code",
      "execution_count": null,
      "metadata": {},
      "outputs": [],
      "source": [
        "test_file_path = '/Test_rainfall_test_test.csv'\n",
        "test_data = pd.read_csv(test_file_path)\n",
        "\n",
        "\n",
        "fc_year2 = 'rainfall_test.fc_year'\n",
        "fc_month2 = 'rainfall_test.fc_month'\n",
        "fc_day2 = 'rainfall_test.fc_day'\n",
        "fc_hour2 = 'rainfall_test.fc_hour'\n",
        "stn4contest2 = 'rainfall_test.stn4contest'\n",
        "dh2 = 'rainfall_test.dh'\n",
        "ef_year2 = 'rainfall_test.ef_year'\n",
        "ef_month2 = 'rainfall_test.ef_month'\n",
        "ef_day2 = 'rainfall_test.ef_day'\n",
        "ef_hour2 = 'rainfall_test.ef_hour'\n",
        "v012 = 'rainfall_test.v01'\n",
        "v022 = 'rainfall_test.v02'\n",
        "v032 = 'rainfall_test.v03'\n",
        "v042 = 'rainfall_test.v04'\n",
        "v052 = 'rainfall_test.v05'\n",
        "v062 = 'rainfall_test.v06'\n",
        "v072 = 'rainfall_test.v07'\n",
        "v082 = 'rainfall_test.v08'\n",
        "v092 = 'rainfall_test.v09'\n",
        "vv2 = 'rainfall_test.vv'\n",
        "class_interval2 = 'rainfall_test.class_interval'"
      ]
    },
    {
      "cell_type": "code",
      "execution_count": null,
      "metadata": {},
      "outputs": [],
      "source": [
        "# 특성과 타겟 설정\n",
        "X_test = test_data[[fc_year2, fc_month2, fc_day2, fc_hour2, ef_year2, ef_month2, ef_day2, ef_hour2, \n",
        "                      dh2, stn4contest2, v012, v022, v032, v042, v052, v062, v072, v082, v092]]"
      ]
    },
    {
      "cell_type": "code",
      "execution_count": null,
      "metadata": {},
      "outputs": [],
      "source": [
        "from sklearn.preprocessing import LabelEncoder\n",
        "\n",
        "le = LabelEncoder()\n",
        "\n",
        "test_data[fc_year2] = le.fit_transform(test_data[fc_year2])\n",
        "test_data[ef_year2] = le.fit_transform(test_data[ef_year2])\n",
        "test_data[stn4contest2] = le.fit_transform(test_data[stn4contest2])\n",
        "\n",
        "test_data.head()"
      ]
    },
    {
      "cell_type": "code",
      "execution_count": null,
      "metadata": {},
      "outputs": [],
      "source": [
        "best_model = best_estimators[{model_name}]  \n",
        "test_predictions = best_model.predict(X_test)"
      ]
    },
    {
      "cell_type": "code",
      "execution_count": null,
      "metadata": {},
      "outputs": [],
      "source": [
        "# 예측된 vv 값을 class_interval로 변환\n",
        "def vv_to_class_interval(vv):\n",
        "    if vv < 0.1:\n",
        "        return 0\n",
        "    elif vv < 0.2:\n",
        "        return 1\n",
        "    elif vv < 0.5:\n",
        "        return 2\n",
        "    elif vv < 1.0:\n",
        "        return 3\n",
        "    elif vv < 2.0:\n",
        "        return 4\n",
        "    elif vv < 5.0:\n",
        "        return 5\n",
        "    elif vv < 10.0:\n",
        "        return 6\n",
        "    elif vv < 20.0:\n",
        "        return 7\n",
        "    elif vv < 30.0:\n",
        "        return 8\n",
        "    else:\n",
        "        return 9"
      ]
    },
    {
      "cell_type": "code",
      "execution_count": null,
      "metadata": {},
      "outputs": [],
      "source": [
        "test_data['rainfall_train.class_interval'] = test_predictions.apply(vv_to_class_interval)"
      ]
    },
    {
      "cell_type": "code",
      "execution_count": null,
      "metadata": {},
      "outputs": [],
      "source": [
        "test_data.to_csv('rainfall_test_with_predictions.csv', index=False)"
      ]
    },
    {
      "cell_type": "code",
      "execution_count": null,
      "metadata": {},
      "outputs": [],
      "source": [
        "print(test_data.head())"
      ]
    }
  ],
  "metadata": {
    "accelerator": "GPU",
    "colab": {
      "gpuType": "T4",
      "provenance": []
    },
    "kernelspec": {
      "display_name": "Python 3",
      "name": "python3"
    },
    "language_info": {
      "codemirror_mode": {
        "name": "ipython",
        "version": 3
      },
      "file_extension": ".py",
      "mimetype": "text/x-python",
      "name": "python",
      "nbconvert_exporter": "python",
      "pygments_lexer": "ipython3",
      "version": "3.11.9"
    }
  },
  "nbformat": 4,
  "nbformat_minor": 0
}
