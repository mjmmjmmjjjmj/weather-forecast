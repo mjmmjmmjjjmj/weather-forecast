{
 "cells": [
  {
   "cell_type": "code",
   "execution_count": 1,
   "metadata": {},
   "outputs": [],
   "source": [
    "import pandas as pd\n",
    "train_data = pd.read_csv('./combined_data.csv')"
   ]
  },
  {
   "cell_type": "code",
   "execution_count": 2,
   "metadata": {},
   "outputs": [],
   "source": [
    "fc_year = 'rainfall_train.fc_year'\n",
    "fc_month = 'rainfall_train.fc_month'\n",
    "fc_day = 'rainfall_train.fc_day'\n",
    "fc_hour = 'rainfall_train.fc_hour'\n",
    "stn4contest = 'rainfall_train.stn4contest'\n",
    "dh = 'rainfall_train.dh'\n",
    "ef_year = 'rainfall_train.ef_year'\n",
    "ef_month = 'rainfall_train.ef_month'\n",
    "ef_day = 'rainfall_train.ef_day'\n",
    "ef_hour = 'rainfall_train.ef_hour'\n",
    "v01 = 'rainfall_train.v01'\n",
    "v02 = 'rainfall_train.v02'\n",
    "v03 = 'rainfall_train.v03'\n",
    "v04 = 'rainfall_train.v04'\n",
    "v05 = 'rainfall_train.v05'\n",
    "v06 = 'rainfall_train.v06'\n",
    "v07 = 'rainfall_train.v07'\n",
    "v08 = 'rainfall_train.v08'\n",
    "v09 = 'rainfall_train.v09'\n",
    "vv = 'rainfall_train.vv'\n",
    "class_interval = 'rainfall_train.class_interval'"
   ]
  },
  {
   "cell_type": "code",
   "execution_count": 43,
   "metadata": {},
   "outputs": [],
   "source": [
    "# 원래 값을 저장\n",
    "original_fc_year = train_data['rainfall_train.fc_year'].unique()\n",
    "original_ef_year = train_data['rainfall_train.ef_year'].unique()\n",
    "original_stn4contest = train_data['rainfall_train.stn4contest'].unique()"
   ]
  },
  {
   "cell_type": "code",
   "execution_count": 44,
   "metadata": {},
   "outputs": [
    {
     "name": "stdout",
     "output_type": "stream",
     "text": [
      "[0 1 2 3]\n"
     ]
    }
   ],
   "source": [
    "print(original_ef_year)"
   ]
  },
  {
   "cell_type": "code",
   "execution_count": 45,
   "metadata": {},
   "outputs": [
    {
     "name": "stdout",
     "output_type": "stream",
     "text": [
      "[ 0  1  2  3  4  5  6  7  8  9 10 11 12 13 14 15 16 17 18 19 20 21 22 23\n",
      " 24]\n"
     ]
    }
   ],
   "source": [
    "print(original_stn4contest)"
   ]
  },
  {
   "cell_type": "code",
   "execution_count": 3,
   "metadata": {},
   "outputs": [
    {
     "name": "stdout",
     "output_type": "stream",
     "text": [
      "Unnamed: 0                       float64\n",
      "rainfall_train.fc_year            object\n",
      "rainfall_train.fc_month            int64\n",
      "rainfall_train.fc_day              int64\n",
      "rainfall_train.fc_hour             int64\n",
      "rainfall_train.stn4contest        object\n",
      "rainfall_train.dh                  int64\n",
      "rainfall_train.ef_year            object\n",
      "rainfall_train.ef_month            int64\n",
      "rainfall_train.ef_day              int64\n",
      "rainfall_train.ef_hour             int64\n",
      "rainfall_train.v01                 int64\n",
      "rainfall_train.v02                 int64\n",
      "rainfall_train.v03                 int64\n",
      "rainfall_train.v04                 int64\n",
      "rainfall_train.v05                 int64\n",
      "rainfall_train.v06                 int64\n",
      "rainfall_train.v07                 int64\n",
      "rainfall_train.v08                 int64\n",
      "rainfall_train.v09                 int64\n",
      "rainfall_train.vv                float64\n",
      "rainfall_train.class_interval    float64\n",
      "dtype: object\n"
     ]
    }
   ],
   "source": [
    "print(train_data.dtypes)"
   ]
  },
  {
   "cell_type": "code",
   "execution_count": 4,
   "metadata": {},
   "outputs": [
    {
     "data": {
      "text/plain": [
       "Unnamed: 0                        122000\n",
       "rainfall_train.fc_year                 0\n",
       "rainfall_train.fc_month                0\n",
       "rainfall_train.fc_day                  0\n",
       "rainfall_train.fc_hour                 0\n",
       "rainfall_train.stn4contest             0\n",
       "rainfall_train.dh                      0\n",
       "rainfall_train.ef_year                 0\n",
       "rainfall_train.ef_month                0\n",
       "rainfall_train.ef_day                  0\n",
       "rainfall_train.ef_hour                 0\n",
       "rainfall_train.v01                     0\n",
       "rainfall_train.v02                     0\n",
       "rainfall_train.v03                     0\n",
       "rainfall_train.v04                     0\n",
       "rainfall_train.v05                     0\n",
       "rainfall_train.v06                     0\n",
       "rainfall_train.v07                     0\n",
       "rainfall_train.v08                     0\n",
       "rainfall_train.v09                     0\n",
       "rainfall_train.vv                1170575\n",
       "rainfall_train.class_interval    1170575\n",
       "dtype: int64"
      ]
     },
     "execution_count": 4,
     "metadata": {},
     "output_type": "execute_result"
    }
   ],
   "source": [
    "train_data.isnull().sum()"
   ]
  },
  {
   "cell_type": "code",
   "execution_count": 5,
   "metadata": {},
   "outputs": [],
   "source": [
    "# 카테고리형 변환\n",
    "train_data['rainfall_train.fc_year'] = train_data['rainfall_train.fc_year'].astype('category').cat.codes\n",
    "train_data['rainfall_train.ef_year'] = train_data['rainfall_train.ef_year'].astype('category').cat.codes\n",
    "train_data['rainfall_train.stn4contest'] = train_data['rainfall_train.stn4contest'].astype('category').cat.codes"
   ]
  },
  {
   "cell_type": "code",
   "execution_count": 6,
   "metadata": {},
   "outputs": [
    {
     "data": {
      "text/html": [
       "<div>\n",
       "<style scoped>\n",
       "    .dataframe tbody tr th:only-of-type {\n",
       "        vertical-align: middle;\n",
       "    }\n",
       "\n",
       "    .dataframe tbody tr th {\n",
       "        vertical-align: top;\n",
       "    }\n",
       "\n",
       "    .dataframe thead th {\n",
       "        text-align: right;\n",
       "    }\n",
       "</style>\n",
       "<table border=\"1\" class=\"dataframe\">\n",
       "  <thead>\n",
       "    <tr style=\"text-align: right;\">\n",
       "      <th></th>\n",
       "      <th>Unnamed: 0</th>\n",
       "      <th>rainfall_train.fc_year</th>\n",
       "      <th>rainfall_train.fc_month</th>\n",
       "      <th>rainfall_train.fc_day</th>\n",
       "      <th>rainfall_train.fc_hour</th>\n",
       "      <th>rainfall_train.stn4contest</th>\n",
       "      <th>rainfall_train.dh</th>\n",
       "      <th>rainfall_train.ef_year</th>\n",
       "      <th>rainfall_train.ef_month</th>\n",
       "      <th>rainfall_train.ef_day</th>\n",
       "      <th>...</th>\n",
       "      <th>rainfall_train.v02</th>\n",
       "      <th>rainfall_train.v03</th>\n",
       "      <th>rainfall_train.v04</th>\n",
       "      <th>rainfall_train.v05</th>\n",
       "      <th>rainfall_train.v06</th>\n",
       "      <th>rainfall_train.v07</th>\n",
       "      <th>rainfall_train.v08</th>\n",
       "      <th>rainfall_train.v09</th>\n",
       "      <th>rainfall_train.vv</th>\n",
       "      <th>rainfall_train.class_interval</th>\n",
       "    </tr>\n",
       "  </thead>\n",
       "  <tbody>\n",
       "    <tr>\n",
       "      <th>0</th>\n",
       "      <td>1.0</td>\n",
       "      <td>0</td>\n",
       "      <td>5</td>\n",
       "      <td>1</td>\n",
       "      <td>9</td>\n",
       "      <td>0</td>\n",
       "      <td>3</td>\n",
       "      <td>0</td>\n",
       "      <td>5</td>\n",
       "      <td>1</td>\n",
       "      <td>...</td>\n",
       "      <td>0</td>\n",
       "      <td>0</td>\n",
       "      <td>0</td>\n",
       "      <td>0</td>\n",
       "      <td>0</td>\n",
       "      <td>0</td>\n",
       "      <td>0</td>\n",
       "      <td>0</td>\n",
       "      <td>NaN</td>\n",
       "      <td>NaN</td>\n",
       "    </tr>\n",
       "    <tr>\n",
       "      <th>1</th>\n",
       "      <td>2.0</td>\n",
       "      <td>0</td>\n",
       "      <td>5</td>\n",
       "      <td>1</td>\n",
       "      <td>9</td>\n",
       "      <td>0</td>\n",
       "      <td>6</td>\n",
       "      <td>0</td>\n",
       "      <td>5</td>\n",
       "      <td>1</td>\n",
       "      <td>...</td>\n",
       "      <td>0</td>\n",
       "      <td>0</td>\n",
       "      <td>0</td>\n",
       "      <td>0</td>\n",
       "      <td>0</td>\n",
       "      <td>0</td>\n",
       "      <td>0</td>\n",
       "      <td>0</td>\n",
       "      <td>NaN</td>\n",
       "      <td>NaN</td>\n",
       "    </tr>\n",
       "    <tr>\n",
       "      <th>2</th>\n",
       "      <td>3.0</td>\n",
       "      <td>0</td>\n",
       "      <td>5</td>\n",
       "      <td>1</td>\n",
       "      <td>9</td>\n",
       "      <td>0</td>\n",
       "      <td>9</td>\n",
       "      <td>0</td>\n",
       "      <td>5</td>\n",
       "      <td>1</td>\n",
       "      <td>...</td>\n",
       "      <td>0</td>\n",
       "      <td>0</td>\n",
       "      <td>0</td>\n",
       "      <td>0</td>\n",
       "      <td>0</td>\n",
       "      <td>0</td>\n",
       "      <td>0</td>\n",
       "      <td>0</td>\n",
       "      <td>NaN</td>\n",
       "      <td>NaN</td>\n",
       "    </tr>\n",
       "    <tr>\n",
       "      <th>3</th>\n",
       "      <td>4.0</td>\n",
       "      <td>0</td>\n",
       "      <td>5</td>\n",
       "      <td>1</td>\n",
       "      <td>9</td>\n",
       "      <td>0</td>\n",
       "      <td>12</td>\n",
       "      <td>0</td>\n",
       "      <td>5</td>\n",
       "      <td>1</td>\n",
       "      <td>...</td>\n",
       "      <td>0</td>\n",
       "      <td>0</td>\n",
       "      <td>0</td>\n",
       "      <td>0</td>\n",
       "      <td>0</td>\n",
       "      <td>0</td>\n",
       "      <td>0</td>\n",
       "      <td>0</td>\n",
       "      <td>NaN</td>\n",
       "      <td>NaN</td>\n",
       "    </tr>\n",
       "    <tr>\n",
       "      <th>4</th>\n",
       "      <td>5.0</td>\n",
       "      <td>0</td>\n",
       "      <td>5</td>\n",
       "      <td>1</td>\n",
       "      <td>9</td>\n",
       "      <td>0</td>\n",
       "      <td>15</td>\n",
       "      <td>0</td>\n",
       "      <td>5</td>\n",
       "      <td>2</td>\n",
       "      <td>...</td>\n",
       "      <td>0</td>\n",
       "      <td>0</td>\n",
       "      <td>0</td>\n",
       "      <td>0</td>\n",
       "      <td>0</td>\n",
       "      <td>0</td>\n",
       "      <td>0</td>\n",
       "      <td>0</td>\n",
       "      <td>NaN</td>\n",
       "      <td>NaN</td>\n",
       "    </tr>\n",
       "  </tbody>\n",
       "</table>\n",
       "<p>5 rows × 22 columns</p>\n",
       "</div>"
      ],
      "text/plain": [
       "   Unnamed: 0  rainfall_train.fc_year  rainfall_train.fc_month  \\\n",
       "0         1.0                       0                        5   \n",
       "1         2.0                       0                        5   \n",
       "2         3.0                       0                        5   \n",
       "3         4.0                       0                        5   \n",
       "4         5.0                       0                        5   \n",
       "\n",
       "   rainfall_train.fc_day  rainfall_train.fc_hour  rainfall_train.stn4contest  \\\n",
       "0                      1                       9                           0   \n",
       "1                      1                       9                           0   \n",
       "2                      1                       9                           0   \n",
       "3                      1                       9                           0   \n",
       "4                      1                       9                           0   \n",
       "\n",
       "   rainfall_train.dh  rainfall_train.ef_year  rainfall_train.ef_month  \\\n",
       "0                  3                       0                        5   \n",
       "1                  6                       0                        5   \n",
       "2                  9                       0                        5   \n",
       "3                 12                       0                        5   \n",
       "4                 15                       0                        5   \n",
       "\n",
       "   rainfall_train.ef_day  ...  rainfall_train.v02  rainfall_train.v03  \\\n",
       "0                      1  ...                   0                   0   \n",
       "1                      1  ...                   0                   0   \n",
       "2                      1  ...                   0                   0   \n",
       "3                      1  ...                   0                   0   \n",
       "4                      2  ...                   0                   0   \n",
       "\n",
       "   rainfall_train.v04  rainfall_train.v05  rainfall_train.v06  \\\n",
       "0                   0                   0                   0   \n",
       "1                   0                   0                   0   \n",
       "2                   0                   0                   0   \n",
       "3                   0                   0                   0   \n",
       "4                   0                   0                   0   \n",
       "\n",
       "   rainfall_train.v07  rainfall_train.v08  rainfall_train.v09  \\\n",
       "0                   0                   0                   0   \n",
       "1                   0                   0                   0   \n",
       "2                   0                   0                   0   \n",
       "3                   0                   0                   0   \n",
       "4                   0                   0                   0   \n",
       "\n",
       "   rainfall_train.vv  rainfall_train.class_interval  \n",
       "0                NaN                            NaN  \n",
       "1                NaN                            NaN  \n",
       "2                NaN                            NaN  \n",
       "3                NaN                            NaN  \n",
       "4                NaN                            NaN  \n",
       "\n",
       "[5 rows x 22 columns]"
      ]
     },
     "execution_count": 6,
     "metadata": {},
     "output_type": "execute_result"
    }
   ],
   "source": [
    "train_data.head()"
   ]
  },
  {
   "cell_type": "code",
   "execution_count": 17,
   "metadata": {},
   "outputs": [],
   "source": [
    "intervals = [0.05, 0.15, 0.35, 0.75, 1.5, 3.5, 8.5, 15.0, 25.0]"
   ]
  },
  {
   "cell_type": "code",
   "execution_count": 55,
   "metadata": {},
   "outputs": [],
   "source": [
    "# 각 확률값을 실제 확률로 (0.0~1.0)\n",
    "for col in [v01, v02, v03, v04, v05, v06, v07, v08, v09]:\n",
    "    train_data[col] = train_data[col]/100"
   ]
  },
  {
   "cell_type": "code",
   "execution_count": 19,
   "metadata": {},
   "outputs": [],
   "source": [
    "features = [\n",
    "    fc_year, fc_month, fc_day, fc_hour, stn4contest, dh,\n",
    "      ef_year, ef_month, ef_day, ef_hour, \n",
    "       v01, v02, v03, v04, v05, v06, v07, v08, v09]"
   ]
  },
  {
   "cell_type": "code",
   "execution_count": 20,
   "metadata": {},
   "outputs": [],
   "source": [
    "X = train_data[features]\n",
    "y = train_data[vv]"
   ]
  },
  {
   "cell_type": "code",
   "execution_count": 22,
   "metadata": {},
   "outputs": [],
   "source": [
    "from sklearn.model_selection import train_test_split\n",
    "X_train, X_test, y_train, y_test = train_test_split(X, y, test_size=0.2, random_state=42)"
   ]
  },
  {
   "cell_type": "code",
   "execution_count": 23,
   "metadata": {},
   "outputs": [],
   "source": [
    "# 데이터 스케일링\n",
    "from sklearn.preprocessing import StandardScaler\n",
    "\n",
    "scaler = StandardScaler()\n",
    "X_train_scaled = scaler.fit_transform(X_train)\n",
    "X_test_scaled = scaler.transform(X_test)"
   ]
  },
  {
   "cell_type": "code",
   "execution_count": 24,
   "metadata": {},
   "outputs": [],
   "source": [
    "# 각 구간 중간값 * 해당 확률 값 합산-> 예상 강수량 계산\n",
    "train_data [vv] = (\n",
    "        intervals[0] * train_data['rainfall_train.v01'] +\n",
    "        intervals[1] * train_data['rainfall_train.v02'] +\n",
    "        intervals[2] * train_data['rainfall_train.v03'] +\n",
    "        intervals[3] * train_data['rainfall_train.v04'] +\n",
    "        intervals[4] * train_data['rainfall_train.v05'] +\n",
    "        intervals[5] * train_data['rainfall_train.v06'] +\n",
    "        intervals[6] * train_data['rainfall_train.v07'] +\n",
    "        intervals[7] * train_data['rainfall_train.v08'] +\n",
    "        intervals[8] * train_data['rainfall_train.v09']\n",
    "    )"
   ]
  },
  {
   "cell_type": "code",
   "execution_count": 25,
   "metadata": {},
   "outputs": [],
   "source": [
    "from sklearn.ensemble import RandomForestRegressor, ExtraTreesRegressor\n",
    "\n",
    "# 모델\n",
    "rf = RandomForestRegressor(n_estimators=100, random_state=42)\n",
    "etr = ExtraTreesRegressor(n_estimators=100, random_state=42)\n",
    "\n",
    "models = {\n",
    "    'rf' : RandomForestRegressor(n_estimators=100, random_state=42),\n",
    "    'etr' : ExtraTreesRegressor(n_estimators=100, random_state=42)}"
   ]
  },
  {
   "cell_type": "code",
   "execution_count": 26,
   "metadata": {},
   "outputs": [],
   "source": [
    "from sklearn.metrics import mean_squared_error, r2_score\n",
    "from sklearn.model_selection import RandomizedSearchCV\n",
    "import numpy as np\n",
    "\n",
    "sample_size = 200000\n",
    "X_train_sample = X_train.sample(n=sample_size, random_state=42)\n",
    "y_train_sample = y_train.loc[X_train_sample.index]\n",
    "\n",
    "models = {\n",
    "    'etr': etr,\n",
    "    'rf': rf\n",
    "}\n",
    "\n",
    "param_distributions = {\n",
    "    'etr': {\n",
    "        'n_estimators': np.arange(100, 300, 100),\n",
    "        'max_features': ['sqrt', 'log2'],  # 'auto' 대신 'sqrt' 또는 'log2' 사용\n",
    "        'max_depth': [None] + list(np.arange(10, 110, 10)),\n",
    "        'min_samples_split': np.arange(2, 20, 2),\n",
    "        'min_samples_leaf': np.arange(1, 20, 2)\n",
    "    },\n",
    "    'rf': {\n",
    "        'n_estimators': np.arange(100, 300, 100),\n",
    "        'max_features': ['sqrt', 'log2'],  # 'auto' 대신 'sqrt' 또는 'log2' 사용\n",
    "        'max_depth': [None] + list(np.arange(10, 110, 10)),\n",
    "        'min_samples_split': np.arange(2, 20, 2),\n",
    "        'min_samples_leaf': np.arange(1, 20, 2)\n",
    "    }\n",
    "}"
   ]
  },
  {
   "cell_type": "code",
   "execution_count": 27,
   "metadata": {},
   "outputs": [
    {
     "name": "stdout",
     "output_type": "stream",
     "text": [
      "Fitting 3 folds for each of 50 candidates, totalling 150 fits\n",
      "etr 최적 파라미터: {'n_estimators': 200, 'min_samples_split': 4, 'min_samples_leaf': 1, 'max_features': 'sqrt', 'max_depth': 100}\n",
      "etr 검증 mse : 0.0026115326270722654\n",
      "etr test score r2: 0.9991499799906414\n",
      "Fitting 3 folds for each of 50 candidates, totalling 150 fits\n",
      "rf 최적 파라미터: {'n_estimators': 100, 'min_samples_split': 2, 'min_samples_leaf': 1, 'max_features': 'sqrt', 'max_depth': 100}\n",
      "rf 검증 mse : 0.0027239717761267873\n",
      "rf test score r2: 0.9991133825054939\n",
      "etr 최종 모델 train score : 0.99995933589752\n",
      "etr 최종 모델 test mse : 0.0009905576792292945\n",
      "etr 최종 모델 test score r2 : 0.9996775863188381\n",
      "rf 최종 모델 train score : 0.9999270987027448\n",
      "rf 최종 모델 test mse : 0.0009846719680795756\n",
      "rf 최종 모델 test score r2 : 0.999679502041504\n"
     ]
    }
   ],
   "source": [
    "best_estimators = {}\n",
    "\n",
    "for name, model in models.items():\n",
    "    random_search = RandomizedSearchCV(model, param_distributions[name], n_iter=50, cv=3,\n",
    "                                       scoring='neg_mean_squared_error', n_jobs=-1, verbose=1)\n",
    "    random_search.fit(X_train_sample, y_train_sample)\n",
    "    best_estimators[name] = random_search.best_estimator_\n",
    "    print(f\"{name} 최적 파라미터: {random_search.best_params_}\")\n",
    "\n",
    "    predictions = random_search.predict(X_test)\n",
    "    mse = mean_squared_error(y_test, predictions)\n",
    "    print(f\"{name} 검증 mse : {mse}\")\n",
    "\n",
    "    test_score1 = r2_score(y_test, predictions)\n",
    "    print(f\"{name} test score r2: {test_score1}\")\n",
    "\n",
    "# 최적 모델-전체 데이터 다시 학습\n",
    "for name, best_estimators in best_estimators.items():\n",
    "    best_estimators.fit(X_train, y_train)\n",
    "    # 최적 모델-전체 데이터 성능 평가\n",
    "    train_score = best_estimators.score(X_train, y_train)\n",
    "    predictions = best_estimators.predict(X_test)\n",
    "\n",
    "    mse = mean_squared_error(y_test, predictions)\n",
    "    test_score = r2_score(y_test, predictions)\n",
    "\n",
    "    print(f\"{name} 최종 모델 train score : {train_score}\")\n",
    "    print(f\"{name} 최종 모델 test mse : {mse}\")\n",
    "    print(f\"{name} 최종 모델 test score r2 : {test_score}\")"
   ]
  },
  {
   "cell_type": "code",
   "execution_count": 37,
   "metadata": {},
   "outputs": [
    {
     "name": "stdout",
     "output_type": "stream",
     "text": [
      "rf 모델이 'rf_model.pkl' 파일로 저장되었습니다.\n"
     ]
    }
   ],
   "source": [
    "import joblib\n",
    "joblib.dump(best_estimators, f'{name}_model.pkl')\n",
    "print(f\"{name} 모델이 '{name}_model.pkl' 파일로 저장되었습니다.\")"
   ]
  },
  {
   "cell_type": "code",
   "execution_count": null,
   "metadata": {},
   "outputs": [],
   "source": [
    "def output():\n",
    "    import pandas as pd\n",
    "    test_predictions_series = pd.Series(predictions)\n",
    "    "
   ]
  },
  {
   "cell_type": "code",
   "execution_count": 28,
   "metadata": {},
   "outputs": [],
   "source": [
    "import pandas as pd\n",
    "\n",
    "# 예측 결과를 pandas 시리즈로 변환\n",
    "test_predictions_series = pd.Series(predictions)"
   ]
  },
  {
   "cell_type": "code",
   "execution_count": 29,
   "metadata": {},
   "outputs": [
    {
     "name": "stdout",
     "output_type": "stream",
     "text": [
      "[4.750000e-04 0.000000e+00 4.960000e-03 ... 3.740695e+00 2.129600e-01\n",
      " 5.471400e-01]\n"
     ]
    }
   ],
   "source": [
    "print(predictions)"
   ]
  },
  {
   "cell_type": "code",
   "execution_count": 30,
   "metadata": {},
   "outputs": [
    {
     "name": "stdout",
     "output_type": "stream",
     "text": [
      "RandomForestRegressor(max_depth=100, max_features='sqrt', random_state=42) 최종 모델 train score : 0.9999270987027448\n",
      "RandomForestRegressor(max_depth=100, max_features='sqrt', random_state=42) 최종 모델 test score : 0.999679502041504\n"
     ]
    }
   ],
   "source": [
    "print(f\"{best_estimators} 최종 모델 train score : {train_score}\")\n",
    "print(f\"{best_estimators} 최종 모델 test score : {test_score}\")"
   ]
  },
  {
   "cell_type": "code",
   "execution_count": 31,
   "metadata": {},
   "outputs": [],
   "source": [
    "# 예측 값 -> class_interval\n",
    "def vv_to_class_interval(vv):\n",
    "    if vv <= 0.1:\n",
    "        return 0\n",
    "    elif 0.1< vv <= 0.2:\n",
    "        return 1\n",
    "    elif 0.2 < vv <= 0.5:\n",
    "        return 2\n",
    "    elif 0.5 < vv <= 1.0:\n",
    "        return 3\n",
    "    elif 1.0 < vv <= 2.0:\n",
    "        return 4\n",
    "    elif 2.0 < vv <= 5.0:\n",
    "        return 5\n",
    "    elif 5.0 < vv <= 10.0:\n",
    "        return 6\n",
    "    elif 10.0 < vv <= 20.0:\n",
    "        return 7\n",
    "    elif 20.0 < vv <= 30.0:\n",
    "        return 8\n",
    "    else :\n",
    "        return 9"
   ]
  },
  {
   "cell_type": "code",
   "execution_count": 32,
   "metadata": {},
   "outputs": [
    {
     "name": "stdout",
     "output_type": "stream",
     "text": [
      "0          0.000475\n",
      "1          0.000000\n",
      "2          0.004960\n",
      "3          1.451520\n",
      "4          0.000000\n",
      "             ...   \n",
      "1170570         NaN\n",
      "1170571         NaN\n",
      "1170572         NaN\n",
      "1170573         NaN\n",
      "1170574         NaN\n",
      "Name: rainfall_train.vv, Length: 1170575, dtype: float64\n"
     ]
    }
   ],
   "source": [
    "train_data[vv]=test_predictions_series\n",
    "print(train_data[vv])"
   ]
  },
  {
   "cell_type": "code",
   "execution_count": 46,
   "metadata": {},
   "outputs": [
    {
     "name": "stdout",
     "output_type": "stream",
     "text": [
      "0          0.0\n",
      "1          0.0\n",
      "2          0.0\n",
      "3          4.0\n",
      "4          0.0\n",
      "          ... \n",
      "1170570    NaN\n",
      "1170571    NaN\n",
      "1170572    NaN\n",
      "1170573    NaN\n",
      "1170574    NaN\n",
      "Name: rainfall_test.class_interval, Length: 1170575, dtype: float64\n"
     ]
    }
   ],
   "source": [
    "# 예측 결과에 함수 적용\n",
    "train_data['rainfall_test.class_interval'] = test_predictions_series.apply(vv_to_class_interval)\n",
    "\n",
    "# 결과 확인\n",
    "print(train_data['rainfall_test.class_interval'])"
   ]
  },
  {
   "cell_type": "code",
   "execution_count": 53,
   "metadata": {},
   "outputs": [],
   "source": [
    "# 실제 확률을 다시 원래의 확률값으로\n",
    "for col in [v01, v02, v03, v04, v05, v06, v07, v08, v09]:\n",
    "    train_data[col] = train_data[col]*100"
   ]
  },
  {
   "cell_type": "code",
   "execution_count": 56,
   "metadata": {},
   "outputs": [],
   "source": [
    "train_data.to_csv('./combined_data_result.csv', index=False)\n"
   ]
  }
 ],
 "metadata": {
  "kernelspec": {
   "display_name": "py3_11",
   "language": "python",
   "name": "python3"
  },
  "language_info": {
   "codemirror_mode": {
    "name": "ipython",
    "version": 3
   },
   "file_extension": ".py",
   "mimetype": "text/x-python",
   "name": "python",
   "nbconvert_exporter": "python",
   "pygments_lexer": "ipython3",
   "version": "3.11.9"
  }
 },
 "nbformat": 4,
 "nbformat_minor": 2
}
