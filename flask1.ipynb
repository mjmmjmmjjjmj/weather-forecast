{
 "cells": [
  {
   "cell_type": "code",
   "execution_count": 1,
   "metadata": {},
   "outputs": [],
   "source": [
    "import pandas as pd"
   ]
  },
  {
   "cell_type": "code",
   "execution_count": null,
   "metadata": {},
   "outputs": [],
   "source": []
  },
  {
   "cell_type": "code",
   "execution_count": 1,
   "metadata": {},
   "outputs": [
    {
     "name": "stdout",
     "output_type": "stream",
     "text": [
      "Requirement already satisfied: flask in c:\\users\\uear\\anaconda3\\envs\\py3_11\\lib\\site-packages (3.0.3)\n",
      "Requirement already satisfied: Werkzeug>=3.0.0 in c:\\users\\uear\\anaconda3\\envs\\py3_11\\lib\\site-packages (from flask) (3.0.3)\n",
      "Requirement already satisfied: Jinja2>=3.1.2 in c:\\users\\uear\\anaconda3\\envs\\py3_11\\lib\\site-packages (from flask) (3.1.3)\n",
      "Requirement already satisfied: itsdangerous>=2.1.2 in c:\\users\\uear\\anaconda3\\envs\\py3_11\\lib\\site-packages (from flask) (2.2.0)\n",
      "Requirement already satisfied: click>=8.1.3 in c:\\users\\uear\\anaconda3\\envs\\py3_11\\lib\\site-packages (from flask) (8.1.7)\n",
      "Requirement already satisfied: blinker>=1.6.2 in c:\\users\\uear\\anaconda3\\envs\\py3_11\\lib\\site-packages (from flask) (1.8.2)\n",
      "Requirement already satisfied: colorama in c:\\users\\uear\\anaconda3\\envs\\py3_11\\lib\\site-packages (from click>=8.1.3->flask) (0.4.6)\n",
      "Requirement already satisfied: MarkupSafe>=2.0 in c:\\users\\uear\\anaconda3\\envs\\py3_11\\lib\\site-packages (from Jinja2>=3.1.2->flask) (2.1.3)\n",
      "Note: you may need to restart the kernel to use updated packages.\n"
     ]
    }
   ],
   "source": [
    "%pip install flask"
   ]
  },
  {
   "cell_type": "code",
   "execution_count": 2,
   "metadata": {},
   "outputs": [
    {
     "name": "stdout",
     "output_type": "stream",
     "text": [
      "Package                      Version\n",
      "---------------------------- --------------\n",
      "absl-py                      2.1.0\n",
      "anyio                        4.3.0\n",
      "argon2-cffi                  23.1.0\n",
      "argon2-cffi-bindings         21.2.0\n",
      "arrow                        1.3.0\n",
      "asttokens                    2.4.1\n",
      "astunparse                   1.6.3\n",
      "async-lru                    2.0.4\n",
      "attrs                        23.2.0\n",
      "Babel                        2.15.0\n",
      "beautifulsoup4               4.12.3\n",
      "bleach                       6.1.0\n",
      "blinker                      1.8.2\n",
      "Brotli                       1.0.9\n",
      "certifi                      2024.2.2\n",
      "cffi                         1.16.0\n",
      "charset-normalizer           2.0.4\n",
      "click                        8.1.7\n",
      "colorama                     0.4.6\n",
      "comm                         0.2.2\n",
      "contourpy                    1.2.1\n",
      "cycler                       0.12.1\n",
      "debugpy                      1.8.1\n",
      "decorator                    5.1.1\n",
      "defusedxml                   0.7.1\n",
      "et-xmlfile                   1.1.0\n",
      "exceptiongroup               1.2.0\n",
      "executing                    2.0.1\n",
      "fastjsonschema               2.19.1\n",
      "filelock                     3.13.1\n",
      "Flask                        3.0.3\n",
      "flatbuffers                  24.3.25\n",
      "fonttools                    4.52.4\n",
      "fqdn                         1.5.1\n",
      "fsspec                       2024.5.0\n",
      "gast                         0.5.4\n",
      "gensim                       4.3.2\n",
      "gmpy2                        2.1.2\n",
      "google                       3.0.0\n",
      "google-pasta                 0.2.0\n",
      "grpcio                       1.64.1\n",
      "h11                          0.14.0\n",
      "h5py                         3.11.0\n",
      "httpcore                     1.0.5\n",
      "httpx                        0.27.0\n",
      "idna                         3.7\n",
      "importlib_metadata           7.1.0\n",
      "install                      1.3.5\n",
      "ipykernel                    6.29.3\n",
      "ipython                      8.24.0\n",
      "ipywidgets                   8.1.2\n",
      "isoduration                  20.11.0\n",
      "itsdangerous                 2.2.0\n",
      "jedi                         0.19.1\n",
      "Jinja2                       3.1.3\n",
      "joblib                       1.4.2\n",
      "json5                        0.9.25\n",
      "jsonpointer                  2.4\n",
      "jsonschema                   4.22.0\n",
      "jsonschema-specifications    2023.12.1\n",
      "jupyter                      1.0.0\n",
      "jupyter_client               8.6.1\n",
      "jupyter-console              6.6.3\n",
      "jupyter_core                 5.7.2\n",
      "jupyter-events               0.10.0\n",
      "jupyter-lsp                  2.2.5\n",
      "jupyter_server               2.14.0\n",
      "jupyter_server_terminals     0.5.3\n",
      "jupyterlab                   4.2.1\n",
      "jupyterlab_pygments          0.3.0\n",
      "jupyterlab_server            2.27.2\n",
      "jupyterlab_widgets           3.0.10\n",
      "keras                        3.3.3\n",
      "kiwisolver                   1.4.5\n",
      "lazypredict                  0.2.12\n",
      "libclang                     18.1.1\n",
      "lightgbm                     4.3.0\n",
      "Markdown                     3.6\n",
      "markdown-it-py               3.0.0\n",
      "MarkupSafe                   2.1.3\n",
      "matplotlib                   3.9.0\n",
      "matplotlib-inline            0.1.7\n",
      "mdurl                        0.1.2\n",
      "mistune                      3.0.2\n",
      "mkl-fft                      1.3.8\n",
      "mkl-random                   1.2.4\n",
      "mkl-service                  2.4.0\n",
      "ml-dtypes                    0.3.2\n",
      "mpmath                       1.3.0\n",
      "namex                        0.0.8\n",
      "nbclient                     0.10.0\n",
      "nbconvert                    7.16.4\n",
      "nbformat                     5.10.4\n",
      "nest_asyncio                 1.6.0\n",
      "networkx                     3.1\n",
      "nltk                         3.8.1\n",
      "notebook                     7.2.0\n",
      "notebook_shim                0.2.4\n",
      "numpy                        1.26.4\n",
      "openpyxl                     3.1.3\n",
      "opt-einsum                   3.3.0\n",
      "optree                       0.11.0\n",
      "overrides                    7.7.0\n",
      "packaging                    24.0\n",
      "pandas                       2.2.2\n",
      "pandocfilters                1.5.1\n",
      "parso                        0.8.4\n",
      "patsy                        0.5.6\n",
      "pickleshare                  0.7.5\n",
      "pillow                       10.3.0\n",
      "pip                          24.0\n",
      "platformdirs                 4.2.2\n",
      "prometheus_client            0.20.0\n",
      "prompt-toolkit               3.0.42\n",
      "protobuf                     4.25.3\n",
      "psutil                       5.9.8\n",
      "pure-eval                    0.2.2\n",
      "pycparser                    2.22\n",
      "Pygments                     2.18.0\n",
      "pyparsing                    3.1.2\n",
      "PySocks                      1.7.1\n",
      "python-dateutil              2.9.0\n",
      "python-json-logger           2.0.7\n",
      "pytz                         2024.1\n",
      "pywin32                      306\n",
      "pywinpty                     2.0.13\n",
      "PyYAML                       6.0.1\n",
      "pyzmq                        26.0.3\n",
      "qtconsole                    5.5.2\n",
      "QtPy                         2.4.1\n",
      "referencing                  0.35.1\n",
      "regex                        2024.5.15\n",
      "requests                     2.31.0\n",
      "rfc3339-validator            0.1.4\n",
      "rfc3986-validator            0.1.1\n",
      "rich                         13.7.1\n",
      "rpds-py                      0.18.1\n",
      "scikit-learn                 1.5.0\n",
      "scipy                        1.10.0\n",
      "Send2Trash                   1.8.3\n",
      "setuptools                   69.5.1\n",
      "six                          1.16.0\n",
      "smart-open                   7.0.4\n",
      "sniffio                      1.3.1\n",
      "soupsieve                    2.5\n",
      "stack-data                   0.6.2\n",
      "statsmodels                  0.14.2\n",
      "sympy                        1.12\n",
      "tensorboard                  2.16.2\n",
      "tensorboard-data-server      0.7.2\n",
      "tensorflow                   2.16.1\n",
      "tensorflow-addons            0.22.0\n",
      "tensorflow-intel             2.16.1\n",
      "tensorflow-io-gcs-filesystem 0.31.0\n",
      "termcolor                    2.4.0\n",
      "terminado                    0.18.1\n",
      "threadpoolctl                3.5.0\n",
      "tinycss2                     1.3.0\n",
      "torch                        2.2.2\n",
      "torchaudio                   2.2.2\n",
      "torchvision                  0.17.2\n",
      "tornado                      6.4\n",
      "tqdm                         4.66.4\n",
      "traitlets                    5.14.3\n",
      "typeguard                    2.13.3\n",
      "types-python-dateutil        2.9.0.20240316\n",
      "typing_extensions            4.11.0\n",
      "tzdata                       2024.1\n",
      "uri-template                 1.3.0\n",
      "urllib3                      2.2.1\n",
      "wcwidth                      0.2.13\n",
      "webcolors                    1.13\n",
      "webencodings                 0.5.1\n",
      "websocket-client             1.8.0\n",
      "Werkzeug                     3.0.3\n",
      "wheel                        0.43.0\n",
      "widgetsnbextension           4.0.10\n",
      "win-inet-pton                1.1.0\n",
      "wrapt                        1.16.0\n",
      "xgboost                      2.0.3\n",
      "xlrd                         2.0.1\n",
      "zipp                         3.17.0\n",
      "Note: you may need to restart the kernel to use updated packages.\n"
     ]
    }
   ],
   "source": [
    "%pip list"
   ]
  },
  {
   "cell_type": "code",
   "execution_count": 3,
   "metadata": {},
   "outputs": [],
   "source": [
    "mkdir my_flask_project"
   ]
  },
  {
   "cell_type": "code",
   "execution_count": 4,
   "metadata": {},
   "outputs": [
    {
     "name": "stdout",
     "output_type": "stream",
     "text": [
      "c:\\Users\\uear\\Desktop\\공모전\\날씨빅데이터콘테스트\\my_flask_project\n"
     ]
    }
   ],
   "source": [
    "cd my_flask_project"
   ]
  },
  {
   "cell_type": "code",
   "execution_count": 5,
   "metadata": {},
   "outputs": [],
   "source": [
    "mkdir flask_app"
   ]
  },
  {
   "cell_type": "code",
   "execution_count": 6,
   "metadata": {},
   "outputs": [
    {
     "name": "stdout",
     "output_type": "stream",
     "text": [
      "c:\\Users\\uear\\Desktop\\공모전\\날씨빅데이터콘테스트\\my_flask_project\\flask_app\n"
     ]
    }
   ],
   "source": [
    "cd flask_app"
   ]
  },
  {
   "cell_type": "code",
   "execution_count": 43,
   "metadata": {},
   "outputs": [],
   "source": [
    "import pandas as pd"
   ]
  },
  {
   "cell_type": "code",
   "execution_count": 56,
   "metadata": {},
   "outputs": [],
   "source": [
    "train_df = pd.read_csv('./rainfall_train_for_combination.csv')\n",
    "test_df = pd.read_csv('./rainfall_test_for_combination.csv')"
   ]
  },
  {
   "cell_type": "code",
   "execution_count": 57,
   "metadata": {},
   "outputs": [
    {
     "name": "stdout",
     "output_type": "stream",
     "text": [
      "Train 데이터 행 수: 1048575\n",
      "Test 데이터 행 수: 122000\n"
     ]
    }
   ],
   "source": [
    "# 데이터프레임의 행 수 확인\n",
    "print(f'Train 데이터 행 수: {len(train_df)}')\n",
    "print(f'Test 데이터 행 수: {len(test_df)}')"
   ]
  },
  {
   "cell_type": "code",
   "execution_count": 58,
   "metadata": {},
   "outputs": [
    {
     "name": "stdout",
     "output_type": "stream",
     "text": [
      "1170575\n"
     ]
    }
   ],
   "source": [
    "print(len(train_df)+len(test_df))"
   ]
  },
  {
   "cell_type": "code",
   "execution_count": 59,
   "metadata": {},
   "outputs": [],
   "source": [
    "# columns_to_drop = ['rainfall_train.vv', 'rainfall_train.class_interval']\n",
    "columns_to_drop2 = ['rainfall_test.class_interval']\n",
    "# train_df = train_df.drop(columns=columns_to_drop)\n",
    "test_df = test_df.drop(columns=columns_to_drop2)"
   ]
  },
  {
   "cell_type": "code",
   "execution_count": 60,
   "metadata": {},
   "outputs": [],
   "source": [
    "column_mapping = {\n",
    "    'rainfall_test.fc_year': 'rainfall_train.fc_year',\n",
    "    'rainfall_test.fc_month': 'rainfall_train.fc_month',\n",
    "    'rainfall_test.fc_day': 'rainfall_train.fc_day',\n",
    "    'rainfall_test.fc_hour': 'rainfall_train.fc_hour',\n",
    "    'rainfall_test.ef_year': 'rainfall_train.ef_year',\n",
    "    'rainfall_test.ef_month': 'rainfall_train.ef_month',\n",
    "    'rainfall_test.ef_day': 'rainfall_train.ef_day',\n",
    "    'rainfall_test.ef_hour': 'rainfall_train.ef_hour',\n",
    "    'rainfall_test.dh': 'rainfall_train.dh',\n",
    "    'rainfall_test.stn4contest': 'rainfall_train.stn4contest',\n",
    "    'rainfall_test.v01': 'rainfall_train.v01',\n",
    "    'rainfall_test.v02': 'rainfall_train.v02',\n",
    "    'rainfall_test.v03': 'rainfall_train.v03',\n",
    "    'rainfall_test.v04': 'rainfall_train.v04',\n",
    "    'rainfall_test.v05': 'rainfall_train.v05',\n",
    "    'rainfall_test.v06': 'rainfall_train.v06',\n",
    "    'rainfall_test.v07': 'rainfall_train.v07',\n",
    "    'rainfall_test.v08': 'rainfall_train.v08',\n",
    "    'rainfall_test.v09': 'rainfall_train.v09'\n",
    "}\n",
    "\n",
    "test_df = test_df.rename(columns=column_mapping)"
   ]
  },
  {
   "cell_type": "code",
   "execution_count": 61,
   "metadata": {},
   "outputs": [],
   "source": [
    "combined_df = pd.concat([train_df, test_df], ignore_index=True)"
   ]
  },
  {
   "cell_type": "code",
   "execution_count": 62,
   "metadata": {},
   "outputs": [],
   "source": [
    "combined_datapath = 'combined_data.csv'\n",
    "combined_df.to_csv(combined_datapath, index=False)"
   ]
  },
  {
   "cell_type": "code",
   "execution_count": 63,
   "metadata": {},
   "outputs": [
    {
     "name": "stdout",
     "output_type": "stream",
     "text": [
      "combined 데이터 행 수: 1170575\n"
     ]
    }
   ],
   "source": [
    "print(f'combined 데이터 행 수: {len(combined_df)}')"
   ]
  },
  {
   "cell_type": "code",
   "execution_count": 52,
   "metadata": {},
   "outputs": [
    {
     "name": "stdout",
     "output_type": "stream",
     "text": [
      "combined data saved to combined_data.csv\n"
     ]
    }
   ],
   "source": [
    "print(f'combined data saved to {combined_datapath}')"
   ]
  },
  {
   "cell_type": "code",
   "execution_count": null,
   "metadata": {},
   "outputs": [],
   "source": []
  }
 ],
 "metadata": {
  "kernelspec": {
   "display_name": "py3_11",
   "language": "python",
   "name": "python3"
  },
  "language_info": {
   "codemirror_mode": {
    "name": "ipython",
    "version": 3
   },
   "file_extension": ".py",
   "mimetype": "text/x-python",
   "name": "python",
   "nbconvert_exporter": "python",
   "pygments_lexer": "ipython3",
   "version": "3.11.9"
  }
 },
 "nbformat": 4,
 "nbformat_minor": 2
}
