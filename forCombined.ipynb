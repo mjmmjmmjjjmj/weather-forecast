{
 "cells": [
  {
   "cell_type": "code",
   "execution_count": 1,
   "metadata": {},
   "outputs": [],
   "source": [
    "import pandas as pd\n",
    "from sklearn.model_selection import train_test_split, RandomizedSearchCV\n",
    "from sklearn.preprocessing import StandardScaler\n",
    "from sklearn.ensemble import RandomForestRegressor, ExtraTreesRegressor\n",
    "from sklearn.metrics import mean_squared_error, r2_score\n",
    "import numpy as np\n",
    "import joblib\n",
    "import os\n",
    "train_data = pd.read_csv('./rainfall_train.csv')\n",
    "test_data = pd.read_csv('./combined_data.csv')"
   ]
  },
  {
   "cell_type": "code",
   "execution_count": null,
   "metadata": {},
   "outputs": [],
   "source": [
    "column_mapping = {\n",
    "    'rainfall_train.fc_year': 'fc_year',\n",
    "    'rainfall_train.fc_month': 'fc_month',\n",
    "    'rainfall_train.fc_day': 'fc_day',\n",
    "    'rainfall_train.fc_hour': 'fc_hour',\n",
    "    'rainfall_train.ef_year': 'ef_year',\n",
    "    'rainfall_train.ef_month': 'ef_month',\n",
    "    'rainfall_train.ef_day': 'ef_day',\n",
    "    'rainfall_train.ef_hour': 'ef_hour',\n",
    "    'rainfall_train.dh': 'dh',\n",
    "    'rainfall_train.stn4contest': 'stn4contest',\n",
    "    'rainfall_train.v01': 'v01',\n",
    "    'rainfall_train.v02': 'v02',\n",
    "    'rainfall_train.v03': 'v03',\n",
    "    'rainfall_train.v04': 'v04',\n",
    "    'rainfall_train.v05': 'v05',\n",
    "    'rainfall_train.v06': 'v06',\n",
    "    'rainfall_train.v07': 'v07',\n",
    "    'rainfall_train.v08': 'v08',\n",
    "    'rainfall_train.v09': 'v09',\n",
    "    'rainfall_train.vv': 'vv',\n",
    "    'rainfall_train.class_interval': 'class_interval'\n",
    "}\n",
    "\n",
    "train_data = train_data.rename(columns=column_mapping)\n",
    "test_data = test_data.rename(columns=column_mapping)"
   ]
  },
  {
   "cell_type": "code",
   "execution_count": null,
   "metadata": {},
   "outputs": [],
   "source": [
    "fc_year = 'fc_year'\n",
    "fc_month = 'fc_month'\n",
    "fc_day = 'fc_day'\n",
    "fc_hour = 'fc_hour'\n",
    "stn4contest = 'stn4contest'\n",
    "dh = 'dh'\n",
    "ef_year = 'ef_year'\n",
    "ef_month = 'ef_month'\n",
    "ef_day = 'ef_day'\n",
    "ef_hour = 'ef_hour'\n",
    "v01 = 'v01'\n",
    "v02 = 'v02'\n",
    "v03 = 'v03'\n",
    "v04 = 'v04'\n",
    "v05 = 'v05'\n",
    "v06 = 'v06'\n",
    "v07 = 'v07'\n",
    "v08 = 'v08'\n",
    "v09 = 'v09'\n",
    "vv = 'vv'\n",
    "class_interval = 'class_interval'"
   ]
  },
  {
   "cell_type": "code",
   "execution_count": null,
   "metadata": {},
   "outputs": [],
   "source": [
    "print(train_data.dtypes)"
   ]
  },
  {
   "cell_type": "code",
   "execution_count": null,
   "metadata": {},
   "outputs": [],
   "source": [
    "train_data.isnull().sum()"
   ]
  },
  {
   "cell_type": "code",
   "execution_count": null,
   "metadata": {},
   "outputs": [],
   "source": [
    "# 카테고리형 변환\n",
    "train_data['fc_year'] = train_data['fc_year'].astype('category').cat.codes\n",
    "train_data['ef_year'] = train_data['ef_year'].astype('category').cat.codes\n",
    "train_data['stn4contest'] = train_data['stn4contest'].astype('category').cat.codes"
   ]
  },
  {
   "cell_type": "code",
   "execution_count": null,
   "metadata": {},
   "outputs": [],
   "source": [
    "train_data.head()"
   ]
  },
  {
   "cell_type": "code",
   "execution_count": null,
   "metadata": {},
   "outputs": [],
   "source": [
    "features = [\n",
    "    fc_year, fc_month, fc_day, fc_hour, stn4contest, dh,\n",
    "      ef_year, ef_month, ef_day, ef_hour, \n",
    "       v01, v02, v03, v04, v05, v06, v07, v08, v09]"
   ]
  },
  {
   "cell_type": "code",
   "execution_count": null,
   "metadata": {},
   "outputs": [],
   "source": [
    "X = train_data[features]\n",
    "y = train_data[vv]"
   ]
  },
  {
   "cell_type": "code",
   "execution_count": null,
   "metadata": {},
   "outputs": [],
   "source": [
    "from sklearn.model_selection import train_test_split\n",
    "X_train, X_test, y_train, y_test = train_test_split(X, y, test_size=0.2, random_state=42)"
   ]
  },
  {
   "cell_type": "code",
   "execution_count": null,
   "metadata": {},
   "outputs": [],
   "source": [
    "# 데이터 스케일링\n",
    "from sklearn.preprocessing import StandardScaler\n",
    "\n",
    "scaler = StandardScaler()\n",
    "X_train_scaled = scaler.fit_transform(X_train)\n",
    "X_test_scaled = scaler.transform(X_test)"
   ]
  },
  {
   "cell_type": "code",
   "execution_count": null,
   "metadata": {},
   "outputs": [],
   "source": [
    "joblib.dump(scaler, 'scaler.pkl')\n"
   ]
  },
  {
   "cell_type": "code",
   "execution_count": null,
   "metadata": {},
   "outputs": [],
   "source": [
    "from sklearn.ensemble import RandomForestRegressor, ExtraTreesRegressor\n",
    "\n",
    "# 모델\n",
    "rf = RandomForestRegressor(n_estimators=100, random_state=42)\n",
    "etr = ExtraTreesRegressor(n_estimators=100, random_state=42)\n",
    "\n",
    "models = {\n",
    "    'rf' : RandomForestRegressor(n_estimators=100, random_state=42),\n",
    "    'etr' : ExtraTreesRegressor(n_estimators=100, random_state=42)}"
   ]
  },
  {
   "cell_type": "code",
   "execution_count": null,
   "metadata": {},
   "outputs": [],
   "source": [
    "from sklearn.metrics import mean_squared_error, r2_score\n",
    "from sklearn.model_selection import RandomizedSearchCV\n",
    "import numpy as np\n",
    "\n",
    "sample_size = 200000\n",
    "X_train_sample = X_train.sample(n=sample_size, random_state=42)\n",
    "y_train_sample = y_train.loc[X_train_sample.index]\n",
    "\n",
    "models = {\n",
    "    'etr': etr,\n",
    "    'rf': rf\n",
    "}\n",
    "\n",
    "param_distributions = {\n",
    "    'etr': {\n",
    "        'n_estimators': np.arange(100, 200, 300),\n",
    "        'max_features': ['sqrt', 'log2'],  # 'auto' 대신 'sqrt' 또는 'log2' 사용\n",
    "        'max_depth': [None] + list(np.arange(10, 110, 10)),\n",
    "        'min_samples_split': np.arange(2, 20, 2),\n",
    "        'min_samples_leaf': np.arange(1, 20, 2)\n",
    "    },\n",
    "    'rf': {\n",
    "        'n_estimators': np.arange(100, 200, 300),\n",
    "        'max_features': ['sqrt', 'log2'],  # 'auto' 대신 'sqrt' 또는 'log2' 사용\n",
    "        'max_depth': [None] + list(np.arange(10, 110, 10)),\n",
    "        'min_samples_split': np.arange(2, 20, 2),\n",
    "        'min_samples_leaf': np.arange(1, 20, 2)\n",
    "    }\n",
    "}"
   ]
  },
  {
   "cell_type": "code",
   "execution_count": null,
   "metadata": {},
   "outputs": [],
   "source": [
    "best_estimators = {}\n",
    "\n",
    "for name, model in models.items():\n",
    "    random_search = RandomizedSearchCV(model, param_distributions[name], n_iter=50, cv=3,\n",
    "                                       scoring='neg_mean_squared_error', n_jobs=-1, verbose=1)\n",
    "    random_search.fit(X_train_sample, y_train_sample)\n",
    "    best_estimators[name] = random_search.best_estimator_\n",
    "    print(f\"{name} 최적 파라미터: {random_search.best_params_}\")\n",
    "\n",
    "# 최적 모델-전체 데이터 다시 학습\n",
    "for name, estimators in best_estimators.items():\n",
    "    estimators.fit(X_train, y_train)\n",
    "    # 최적 모델-전체 데이터 성능 평가\n",
    "    train_score = best_estimators.score(X_train, y_train)\n",
    "    predictions = best_estimators.predict(X_test)\n",
    "\n",
    "    test_score = r2_score(y_test, predictions)\n",
    "\n",
    "    print(f\"{name} 최종 모델 train score : {train_score}\")\n",
    "    print(f\"{name} 최종 모델 test score r2 : {test_score}\")\n",
    "\n",
    "     # 모델 저장\n",
    "    model_path = os.path.join(os.getcwd(), f'{name}_model.pkl')\n",
    "    joblib.dump(best_estimators, model_path)\n",
    "    print(f\"{name} 모델이 '{model_path}' 파일로 저장되었습니다.\")"
   ]
  },
  {
   "cell_type": "code",
   "execution_count": null,
   "metadata": {},
   "outputs": [],
   "source": [
    "import pandas as pd\n",
    "\n",
    "# 예측 결과를 pandas 시리즈로 변환\n",
    "test_predictions_series = pd.Series(predictions)"
   ]
  },
  {
   "cell_type": "code",
   "execution_count": null,
   "metadata": {},
   "outputs": [],
   "source": [
    "print(predictions)"
   ]
  },
  {
   "cell_type": "code",
   "execution_count": null,
   "metadata": {},
   "outputs": [],
   "source": [
    "print(f\"{best_estimators} 최종 모델 train score : {train_score}\")\n",
    "print(f\"{best_estimators} 최종 모델 test score : {test_score}\")"
   ]
  },
  {
   "cell_type": "code",
   "execution_count": null,
   "metadata": {},
   "outputs": [],
   "source": [
    "# 예측 값 -> class_interval\n",
    "def vv_to_class_interval(vv):\n",
    "    if vv <= 0.1:\n",
    "        return 0\n",
    "    elif 0.1< vv <= 0.2:\n",
    "        return 1\n",
    "    elif 0.2 < vv <= 0.5:\n",
    "        return 2\n",
    "    elif 0.5 < vv <= 1.0:\n",
    "        return 3\n",
    "    elif 1.0 < vv <= 2.0:\n",
    "        return 4\n",
    "    elif 2.0 < vv <= 5.0:\n",
    "        return 5\n",
    "    elif 5.0 < vv <= 10.0:\n",
    "        return 6\n",
    "    elif 10.0 < vv <= 20.0:\n",
    "        return 7\n",
    "    elif 20.0 < vv <= 30.0:\n",
    "        return 8\n",
    "    else :\n",
    "        return 9"
   ]
  },
  {
   "cell_type": "code",
   "execution_count": null,
   "metadata": {},
   "outputs": [],
   "source": [
    "train_data[vv]=test_predictions_series\n",
    "print(train_data[vv])"
   ]
  },
  {
   "cell_type": "code",
   "execution_count": null,
   "metadata": {},
   "outputs": [],
   "source": [
    "# 예측 결과에 함수 적용\n",
    "train_data['rainfall_test.class_interval'] = test_predictions_series.apply(vv_to_class_interval)\n",
    "\n",
    "# 결과 확인\n",
    "print(train_data['rainfall_test.class_interval'])"
   ]
  },
  {
   "cell_type": "code",
   "execution_count": null,
   "metadata": {},
   "outputs": [],
   "source": [
    "# 각 확률값을 실제 확률로 (0.0~1.0)\n",
    "for col in [v01, v02, v03, v04, v05, v06, v07, v08, v09]:\n",
    "    train_data[col] = train_data[col]*100"
   ]
  },
  {
   "cell_type": "code",
   "execution_count": null,
   "metadata": {},
   "outputs": [],
   "source": [
    "train_data.to_csv('./combined_data_result.csv', index=False)\n"
   ]
  }
 ],
 "metadata": {
  "kernelspec": {
   "display_name": "py3_11",
   "language": "python",
   "name": "python3"
  },
  "language_info": {
   "codemirror_mode": {
    "name": "ipython",
    "version": 3
   },
   "file_extension": ".py",
   "mimetype": "text/x-python",
   "name": "python",
   "nbconvert_exporter": "python",
   "pygments_lexer": "ipython3",
   "version": "3.9.13"
  }
 },
 "nbformat": 4,
 "nbformat_minor": 2
}
